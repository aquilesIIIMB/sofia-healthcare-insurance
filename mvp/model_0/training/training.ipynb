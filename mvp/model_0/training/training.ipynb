{
 "cells": [
  {
   "cell_type": "markdown",
   "id": "33e747e7-1302-4c98-a1ee-13a8f589f09a",
   "metadata": {
    "deletable": false,
    "editable": false,
    "tags": []
   },
   "source": [
    "# Training and HP Tuning component"
   ]
  },
  {
   "cell_type": "markdown",
   "id": "29a3bf71-f762-43c2-b757-ca553c50ccb7",
   "metadata": {
    "deletable": false,
    "editable": true,
    "tags": []
   },
   "source": [
    "Notebook details... [COMPLETE]"
   ]
  },
  {
   "cell_type": "markdown",
   "id": "e2433117-de05-4e3e-a412-bbe0089a3a34",
   "metadata": {
    "deletable": false,
    "editable": false,
    "tags": []
   },
   "source": [
    "## Setting environment"
   ]
  },
  {
   "cell_type": "markdown",
   "id": "660ad1bb-9a6e-4e92-8ec6-26992eeee6d4",
   "metadata": {
    "deletable": false,
    "editable": false,
    "tags": []
   },
   "source": [
    "### Install Jupyter Kernel and python version"
   ]
  },
  {
   "cell_type": "code",
   "execution_count": null,
   "id": "4216e3d2-60f1-4421-8170-b53a20036779",
   "metadata": {
    "deletable": false,
    "editable": true,
    "scrolled": true,
    "tags": []
   },
   "outputs": [],
   "source": [
    "%%bash\n",
    "chmod +x config/install_env_kernel.sh\n",
    "bash config/install_env_kernel.sh -n <ENV-NAME> -p <PYTHON-VERSION>"
   ]
  },
  {
   "cell_type": "markdown",
   "id": "8f2e6be5-314e-4447-945c-048b55415930",
   "metadata": {
    "deletable": false,
    "editable": false,
    "tags": []
   },
   "source": [
    "*** **Now you have to restart this notebook and search the new kernel to activate it!** ***"
   ]
  },
  {
   "cell_type": "markdown",
   "id": "602efbf5-2ff4-4e9d-b417-4ce3fa29d07d",
   "metadata": {
    "deletable": false,
    "editable": false,
    "tags": []
   },
   "source": [
    "### Install environment dependencies"
   ]
  },
  {
   "cell_type": "code",
   "execution_count": null,
   "id": "3e007752-48a7-4dbc-a7e0-810378d72167",
   "metadata": {
    "deletable": false,
    "editable": true,
    "scrolled": true,
    "tags": []
   },
   "outputs": [],
   "source": [
    "%%bash\n",
    "pip install -U <DEPENDENCIE_1> <DEPENDENCIE_2> #..."
   ]
  },
  {
   "cell_type": "markdown",
   "id": "b6367eb8-6b42-4a36-9f09-d71728bcc643",
   "metadata": {
    "deletable": false,
    "editable": false,
    "tags": []
   },
   "source": [
    "------------------------------------------------------------------------------------------------------------------------"
   ]
  },
  {
   "cell_type": "markdown",
   "id": "729fd121-eb9a-4577-8597-a6fbb42737ae",
   "metadata": {
    "deletable": false,
    "editable": false,
    "tags": []
   },
   "source": [
    "## Experimental code"
   ]
  },
  {
   "cell_type": "code",
   "execution_count": null,
   "id": "5d106c45-700c-4f94-84c3-bb9b951b05d0",
   "metadata": {
    "tags": []
   },
   "outputs": [],
   "source": [
    "# Load Dependencies ..."
   ]
  },
  {
   "cell_type": "code",
   "execution_count": null,
   "id": "5159c880-5d21-4eea-9b7e-34fb0e5bb091",
   "metadata": {
    "tags": []
   },
   "outputs": [],
   "source": [
    "# CODE..."
   ]
  },
  {
   "cell_type": "code",
   "execution_count": null,
   "id": "28e65bab-ff5a-44aa-995a-fdf6a6572d6a",
   "metadata": {
    "tags": []
   },
   "outputs": [],
   "source": [
    "# CODE..."
   ]
  },
  {
   "cell_type": "markdown",
   "id": "5d840031-ea83-4176-af11-b0cdf4843b9a",
   "metadata": {
    "editable": false,
    "tags": []
   },
   "source": [
    "------------------------------------------------------------------------------------------------------------------------"
   ]
  },
  {
   "cell_type": "markdown",
   "id": "4f2b2d82-6dc5-4f3e-a973-93dd4c10f4ab",
   "metadata": {
    "deletable": false,
    "editable": false,
    "tags": []
   },
   "source": [
    "## Executable Code in Vertex Training as Custom Container"
   ]
  },
  {
   "cell_type": "markdown",
   "id": "2966281e-bb8c-4cfb-a3e0-6584a1eff6a8",
   "metadata": {
    "deletable": false,
    "editable": false,
    "tags": []
   },
   "source": [
    "### Code to ingest input data"
   ]
  },
  {
   "cell_type": "code",
   "execution_count": null,
   "id": "43413cca-ff9c-4145-a0ec-b5ae4cba46b4",
   "metadata": {
    "deletable": false,
    "editable": true,
    "scrolled": true,
    "tags": []
   },
   "outputs": [],
   "source": [
    "# input-data-ingestion (DON'T REMOVE THIS COMMENT)\n",
    "from typing import List, Dict, Tuple\n",
    "# Load Dependencies ...\n",
    "\n",
    "\n",
    "# Auxiliar functions\n",
    "# ...\n",
    "\n",
    "\n",
    "# Main function\n",
    "def feature_ingestion(\n",
    "    project_id: str,\n",
    "    version: str,\n",
    "    location: str='us-central1',\n",
    "    secret_path: List[str]=None,\n",
    "    input_files_queries: List[str]=None,\n",
    "    input_files_storage_uri: List[str]=None,\n",
    "    test_mode: bool=False,\n",
    "    labels: Dict={\"application_name\": \"{{cookiecutter.applicationName}}\", \"git_project\": \"{{cookiecutter.projectName}}\", \"model_name\": \"\", \"git_branch\": \"mvp\", \"version\": \"\", \"component\": \"training\"},\n",
    ") -> Tuple:\n",
    "    # ...\n",
    "    \n",
    "    return ()\n"
   ]
  },
  {
   "cell_type": "markdown",
   "id": "d2cd8faa-5acb-448a-a98e-93d9bb203dbf",
   "metadata": {
    "deletable": false,
    "editable": false,
    "tags": []
   },
   "source": [
    "### Code to process input data and generate output data"
   ]
  },
  {
   "cell_type": "code",
   "execution_count": null,
   "id": "e6d24ef3-7875-4dc7-998e-c19625293655",
   "metadata": {
    "deletable": false,
    "editable": true,
    "scrolled": true,
    "tags": []
   },
   "outputs": [],
   "source": [
    "# process (DON'T REMOVE THIS COMMENT)\n",
    "from typing import List, Dict, Tuple\n",
    "# Load Dependencies ...\n",
    "\n",
    "\n",
    "# Auxiliar functions\n",
    "# ...\n",
    "\n",
    "              \n",
    "def model_training(\n",
    "    feature_data: tuple,\n",
    "    project_id: str,\n",
    "    model_name: str,\n",
    "    hyperparameters: dict,\n",
    "    version: str,\n",
    "    is_saved: bool=True,\n",
    "    model_bucket_name: str=None,\n",
    "    use_gpu: bool=None,\n",
    "    location: str='us-central1',\n",
    "    secret_path: List[str]=None,\n",
    "    test_mode: bool=False,\n",
    "    labels: Dict={\"application_name\": \"{{cookiecutter.applicationName}}\", \"git_project\": \"{{cookiecutter.projectName}}\", \"model_name\": \"\", \"git_branch\": \"mvp\", \"version\": \"\", \"component\": \"training\"},\n",
    ") -> Tuple:\n",
    "    # ...\n",
    "    \n",
    "    return ()\n"
   ]
  },
  {
   "cell_type": "markdown",
   "id": "28027d7b-e691-47c2-8b4c-2b0673726cee",
   "metadata": {},
   "source": [
    "### Hyperparameter tuning"
   ]
  },
  {
   "cell_type": "code",
   "execution_count": null,
   "id": "753196af-abf8-4b45-ac75-ecec1c8714bf",
   "metadata": {
    "tags": []
   },
   "outputs": [],
   "source": [
    "# process (DON'T REMOVE THIS COMMENT)\n",
    "from typing import List, Dict, Tuple\n",
    "# Load Dependencies ...\n",
    "\n",
    "\n",
    "# Auxiliar functions\n",
    "# ...\n",
    "\n",
    "\n",
    "def hp_tuning(\n",
    "    hp_feature_data: tuple,\n",
    "    project_id: str,\n",
    "    model_name: str,\n",
    "    hp_ntrials: int,\n",
    "    hp_min_range_values: List[float],\n",
    "    hp_max_range_values: List[float],\n",
    "    hp_names: List[str],\n",
    "    hp_init_values: List[float],\n",
    "    model_bucket_name: str,\n",
    "    version: str,\n",
    "    use_gpu: bool=None,\n",
    "    input_files_queries: List[str]=None,\n",
    "    input_files_storage_uri: List[str]=None,\n",
    "    location: str='us-central1',\n",
    "    secret_path: List[str]=None,\n",
    "    test_mode: bool=False,\n",
    "    labels: Dict={\"application_name\": \"{{cookiecutter.applicationName}}\", \"git_project\": \"{{cookiecutter.projectName}}\", \"model_name\": \"\", \"git_branch\": \"mvp\", \"version\": \"\", \"component\": \"training\"},\n",
    ") -> Tuple:\n",
    "    # ...\n",
    "    \n",
    "    return (best_params, {OPTIIMIZED_METRIC: best_value})\n"
   ]
  },
  {
   "cell_type": "markdown",
   "id": "d638d881-0876-460f-b634-84c5e0f7f7e0",
   "metadata": {
    "deletable": false,
    "editable": false,
    "tags": []
   },
   "source": [
    "### Code to save output data"
   ]
  },
  {
   "cell_type": "code",
   "execution_count": null,
   "id": "a8daf3d2-bca7-4d48-a478-7ee14c45e473",
   "metadata": {
    "deletable": false,
    "editable": true,
    "scrolled": true,
    "tags": []
   },
   "outputs": [],
   "source": [
    "# output-data-storing (DON'T REMOVE THIS COMMENT)\n",
    "from typing import List, Dict, Tuple\n",
    "# Load Dependencies ...\n",
    "\n",
    "\n",
    "# Auxiliar functions\n",
    "# ...\n",
    "\n",
    "\n",
    "def model_and_metric_storing(\n",
    "    project_id: str,\n",
    "    model_metadata: tuple,\n",
    "    version: str,\n",
    "    location: str='us-central1',\n",
    "    output_tables: List[str]=None,\n",
    "    output_bucket_paths: List[str]=None,\n",
    "    model_bucket_name: str=None,\n",
    "    secret_path: List[str]=None,\n",
    "    test_mode: bool=False,\n",
    "    labels: Dict={\"application_name\": \"{{cookiecutter.applicationName}}\", \"git_project\": \"{{cookiecutter.projectName}}\", \"model_name\": \"\", \"git_branch\": \"mvp\", \"version\": \"\", \"component\": \"training\"},\n",
    ") -> Tuple:\n",
    "    # ...\n",
    "    \n",
    "    return ()\n"
   ]
  },
  {
   "cell_type": "markdown",
   "id": "63b7f641-f189-4e29-b11e-e8c1a2735f5b",
   "metadata": {
    "deletable": false,
    "editable": false,
    "tags": []
   },
   "source": [
    "### Code to run every function in Vertex Training"
   ]
  },
  {
   "cell_type": "markdown",
   "id": "df762772-3502-4e0b-bad9-9c2e943b38e5",
   "metadata": {
    "deletable": false,
    "editable": false,
    "tags": []
   },
   "source": [
    "Use full dataset and configuration to run the complete Preprocessing in Vertex Training Job with enough resources."
   ]
  },
  {
   "cell_type": "raw",
   "id": "c7537cbd-e3bb-4e9e-8b92-32eacf81fd4f",
   "metadata": {
    "deletable": false,
    "editable": true,
    "tags": []
   },
   "source": [
    "# step-execution (DON'T REMOVE THIS COMMENT)\n",
    "\n",
    "if __name__ == \"__main__\": \n",
    "    # input variables\n",
    "    project_id = #...\n",
    "    version = #...\n",
    "    location = #...\n",
    "    secret_path = #...\n",
    "    model_name = #...\n",
    "    model_bucket_name = #...\n",
    "    use_gpu = #...\n",
    "\n",
    "    hp_ntrials = #...\n",
    "    hp_min_range_values = #...\n",
    "    hp_max_range_values = #...\n",
    "    hp_names = #...\n",
    "    hp_init_values = #...\n",
    "\n",
    "    input_files_queries = #... # Optional but at least input_files_queries or input_files_storage_uri\n",
    "    input_files_storage_uri = #... # Optional but at least input_files_queries or input_files_storage_uri\n",
    "\n",
    "    hp_input_files_queries = #... # Optional but at least hp_input_files_queries or hp_input_files_storage_uri\n",
    "    hp_input_files_storage_uri = #... # Optional but at least hp_input_files_queries or hp_input_files_storage_uri\n",
    "\n",
    "    output_tables = #... # Optional but at least output_tables or output_bucket_paths\n",
    "    output_bucket_paths = #... # Optional but at least output_tables or output_bucket_paths\n",
    "\n",
    "    # Steps\n",
    "    feature_data = feature_ingestion(\n",
    "        project_id=project_id,\n",
    "        version=version,\n",
    "        location=location,\n",
    "        secret_path=secret_path,\n",
    "        input_files_queries=input_files_queries,\n",
    "        input_files_storage_uri=input_files_storage_uri,\n",
    "    )\n",
    "\n",
    "    hp_feature_data = feature_ingestion(\n",
    "        project_id=project_id,\n",
    "        version=version,\n",
    "        location=location,\n",
    "        secret_path=secret_path,\n",
    "        input_files_queries=hp_input_files_queries,\n",
    "        input_files_storage_uri=hp_input_files_storage_uri,\n",
    "    )\n",
    "\n",
    "    hp_tuning_metadata = hp_tuning(\n",
    "        hp_feature_data=hp_feature_data,\n",
    "        project_id=project_id,\n",
    "        model_name=model_name,\n",
    "        hp_ntrials=hp_ntrials,\n",
    "        hp_min_range_values=hp_min_range_values,\n",
    "        hp_max_range_values=hp_max_range_values,\n",
    "        hp_names=hp_names,\n",
    "        hp_init_values=hp_init_values,\n",
    "        model_bucket_name=model_bucket_name,\n",
    "        version=version,\n",
    "        use_gpu=use_gpu,\n",
    "        input_files_queries=input_files_queries,\n",
    "        input_files_storage_uri=input_files_storage_uri,\n",
    "        location=location,\n",
    "        secret_path=secret_path,\n",
    "    )\n",
    "\n",
    "    model_metadata = model_training(\n",
    "        feature_data=feature_data,\n",
    "        project_id=project_id,\n",
    "        model_name=model_name,\n",
    "        hyperparameters=hp_tuning_metadata[0], # IF don't use HP tuning, this parameter could be replaced by dict(zip(hp_names, hp_init_values))\n",
    "        version=version,\n",
    "        model_bucket_name=model_bucket_name,\n",
    "        use_gpu=use_gpu,\n",
    "        location=location,\n",
    "        secret_path=secret_path,\n",
    "    )\n",
    "\n",
    "    model_and_metric_destination = model_and_metric_storing(\n",
    "        project_id=project_id,\n",
    "        model_metadata=model_metadata,\n",
    "        version=version,\n",
    "        location=location,\n",
    "        output_tables=output_tables,\n",
    "        output_bucket_paths=output_bucket_paths,\n",
    "        model_bucket_name=model_bucket_name,\n",
    "        secret_path=secret_path,\n",
    "    )\n",
    "\n",
    "    print('model_and_metric_destination: ', model_and_metric_destination)\n"
   ]
  },
  {
   "cell_type": "markdown",
   "id": "a025d737-cc89-42e2-9105-c5dd39ee766a",
   "metadata": {
    "deletable": false,
    "editable": false,
    "tags": []
   },
   "source": [
    "### Standalone execution to test the functions\n",
    "Use a small dataset to have a sucess execution into this machine. Full dataset will be run in Vertex Training with enough resources."
   ]
  },
  {
   "cell_type": "code",
   "execution_count": null,
   "id": "12f93ad9-6bc8-4815-8dbe-820e8a42b7e3",
   "metadata": {
    "deletable": false,
    "editable": true,
    "scrolled": true,
    "tags": []
   },
   "outputs": [],
   "source": [
    "# input variables\n",
    "project_id = #...\n",
    "version = #...\n",
    "location = #...\n",
    "secret_path = #...\n",
    "model_name = #...\n",
    "model_bucket_name = #...\n",
    "use_gpu = #...\n",
    "\n",
    "hp_ntrials = #...\n",
    "hp_min_range_values = #...\n",
    "hp_max_range_values = #...\n",
    "hp_names = #...\n",
    "hp_init_values = #...\n",
    "\n",
    "input_files_queries = #... # Optional but at least input_files_queries or input_files_storage_uri\n",
    "input_files_storage_uri = #... # Optional but at least input_files_queries or input_files_storage_uri\n",
    "\n",
    "hp_input_files_queries = #... # Optional but at least hp_input_files_queries or hp_input_files_storage_uri\n",
    "hp_input_files_storage_uri = #... # Optional but at least hp_input_files_queries or hp_input_files_storage_uri\n",
    "\n",
    "output_tables = #... # Optional but at least output_tables or output_bucket_paths\n",
    "output_bucket_paths = #... # Optional but at least output_tables or output_bucket_paths\n",
    "\n",
    "# Steps\n",
    "feature_data = feature_ingestion(\n",
    "    project_id=project_id,\n",
    "    version=version,\n",
    "    location=location,\n",
    "    secret_path=secret_path,\n",
    "    input_files_queries=input_files_queries,\n",
    "    input_files_storage_uri=input_files_storage_uri,\n",
    ")\n",
    "\n",
    "hp_feature_data = feature_ingestion(\n",
    "    project_id=project_id,\n",
    "    version=version,\n",
    "    location=location,\n",
    "    secret_path=secret_path,\n",
    "    input_files_queries=hp_input_files_queries,\n",
    "    input_files_storage_uri=hp_input_files_storage_uri,\n",
    ")\n",
    "\n",
    "hp_tuning_metadata = hp_tuning(\n",
    "    hp_feature_data=hp_feature_data,\n",
    "    project_id=project_id,\n",
    "    model_name=model_name,\n",
    "    hp_ntrials=hp_ntrials,\n",
    "    hp_min_range_values=hp_min_range_values,\n",
    "    hp_max_range_values=hp_max_range_values,\n",
    "    hp_names=hp_names,\n",
    "    hp_init_values=hp_init_values,\n",
    "    model_bucket_name=model_bucket_name,\n",
    "    version=version,\n",
    "    use_gpu=use_gpu,\n",
    "    input_files_queries=input_files_queries,\n",
    "    input_files_storage_uri=input_files_storage_uri,\n",
    "    location=location,\n",
    "    secret_path=secret_path,\n",
    ")\n",
    "\n",
    "model_metadata = model_training(\n",
    "    feature_data=feature_data,\n",
    "    project_id=project_id,\n",
    "    model_name=model_name,\n",
    "    hyperparameters=hp_tuning_metadata[0], # IF don't use HP tuning, this parameter could be replaced by dict(zip(hp_names, hp_init_values))\n",
    "    version=version,\n",
    "    model_bucket_name=model_bucket_name,\n",
    "    use_gpu=use_gpu,\n",
    "    location=location,\n",
    "    secret_path=secret_path,\n",
    ")\n",
    "\n",
    "model_and_metric_destination = model_and_metric_storing(\n",
    "    project_id=project_id,\n",
    "    model_metadata=model_metadata,\n",
    "    version=version,\n",
    "    location=location,\n",
    "    output_tables=output_tables,\n",
    "    output_bucket_paths=output_bucket_paths,\n",
    "    model_bucket_name=model_bucket_name,\n",
    "    secret_path=secret_path,\n",
    ")\n",
    "\n",
    "print('model_and_metric_destination: ', model_and_metric_destination)\n"
   ]
  },
  {
   "cell_type": "markdown",
   "id": "b71eda08-1ea6-4476-b20e-75f14f3306e6",
   "metadata": {
    "deletable": false,
    "editable": false,
    "tags": []
   },
   "source": [
    "## Create Vertex Training Job config"
   ]
  },
  {
   "cell_type": "markdown",
   "id": "4f68cb9e-90f9-4a29-804f-95ba7afb9cb3",
   "metadata": {
    "deletable": false,
    "editable": false,
    "tags": []
   },
   "source": [
    "### Create the requirements file "
   ]
  },
  {
   "cell_type": "code",
   "execution_count": null,
   "id": "b7016c4e-f85e-4451-8ee2-c0ddcd0f04e9",
   "metadata": {
    "deletable": false,
    "editable": false,
    "scrolled": true,
    "tags": []
   },
   "outputs": [],
   "source": [
    "%%bash\n",
    "chmod +x config/extract_dependencies.sh\n",
    "bash config/extract_dependencies.sh"
   ]
  },
  {
   "cell_type": "markdown",
   "id": "0a605f95-be87-4ab5-b49c-d25584476835",
   "metadata": {
    "deletable": false,
    "editable": false,
    "tags": []
   },
   "source": [
    "### Convert notebook to Python Script"
   ]
  },
  {
   "cell_type": "code",
   "execution_count": null,
   "id": "e1c83e19-519b-46df-bef4-efa311aa9ef6",
   "metadata": {
    "deletable": false,
    "scrolled": true,
    "tags": []
   },
   "outputs": [],
   "source": [
    "%%bash\n",
    "python config/convert_notebook2script.py --notebook_name training"
   ]
  },
  {
   "cell_type": "markdown",
   "id": "3d7cb774-c59a-4ccd-9121-4dfbcff2e721",
   "metadata": {
    "deletable": false,
    "editable": false,
    "tags": []
   },
   "source": [
    "### Create docker container"
   ]
  },
  {
   "cell_type": "code",
   "execution_count": null,
   "id": "d1f16c23-2320-42e7-9208-c6a3c0de9b8b",
   "metadata": {
    "scrolled": true,
    "tags": []
   },
   "outputs": [],
   "source": [
    "%%bash\n",
    "chmod +x config/build-img.sh\n",
    "bash config/build-img.sh -m <MODEL_NAME> -p <PYTHON-VERSION> -d <CONTAINER_DESCRIPTION> -v <VERSION> -t <GIT_BRANCH>"
   ]
  },
  {
   "cell_type": "markdown",
   "id": "bb0bba99-57ff-4bb0-a1b6-59208b6f88b3",
   "metadata": {
    "deletable": false,
    "editable": false,
    "tags": []
   },
   "source": [
    "### Launch Vertex Training Job"
   ]
  },
  {
   "cell_type": "code",
   "execution_count": 1,
   "id": "dd1ff196-45e4-496d-afc0-b8441bddf615",
   "metadata": {
    "tags": []
   },
   "outputs": [
    {
     "name": "stdout",
     "output_type": "stream",
     "text": [
      "{'cpu_machine_name': 'n1-standard-8', 'cpu_machine_cores': 8, 'cpu_machine_ram': 30, 'gpu_machine_name': 'NVIDIA_TESLA_K80', 'gpu_machine_cores': 1}\n"
     ]
    }
   ],
   "source": [
    "%%bash\n",
    "python config/find_suitable_gcp_machine.py \\\n",
    "--cpu_cores=<CPU_CORES> \\\n",
    "--ram_gb=<RAM_GB> \\\n",
    "--gpu_cores=<GPU_CORES[OPTIONAL, DELETE THIS LINE IF YOU DON NOT USE GPU]> \\\n",
    "--gpu_type=<GPU_TYPE[OPTIONAL, DELETE THIS LINE IF YOU DON NOT USE GPU]> \\\n"
   ]
  },
  {
   "cell_type": "code",
   "execution_count": null,
   "id": "f6440db7-b0c5-47a2-8018-a344dc3133c0",
   "metadata": {
    "tags": []
   },
   "outputs": [],
   "source": [
    "%%bash\n",
    "chmod +x config/launch_custom_job.sh\n",
    "bash config/launch_custom_job.sh \\\n",
    "-s {{cookiecutter.serviceAccountMaasName}} \\\n",
    "-m <MODEL_NAME> \\\n",
    "-c <MACHINE_TYPE> \\\n",
    "-g <ACCELERATOR_TYPE[OPTIONAL, DELETE THIS LINE IF YOU DON NOT USE GPU]> \\\n",
    "-n <ACCELERATOR_COUNT[OPTIONAL, DELETE THIS LINE IF YOU DON NOT USE GPU]> \\\n",
    "-i <CONTAINER_IMAGE_URI> \\\n",
    "-v <VERSION> \\\n",
    "-t <GIT_BRANCH> \\\n"
   ]
  },
  {
   "cell_type": "markdown",
   "id": "d88d8e4b-c3b5-43ad-b0e7-8392c4f5e528",
   "metadata": {
    "deletable": false,
    "editable": false,
    "tags": []
   },
   "source": [
    "### Define model quality rules"
   ]
  },
  {
   "cell_type": "markdown",
   "id": "bf521e63-0b1f-47f6-bc80-68d94e52e8ee",
   "metadata": {
    "deletable": false,
    "editable": false,
    "tags": []
   },
   "source": [
    "Encourage users to fill out these fields with as much accuracy and detail as possible.  \n",
    "Accurate metadata can significantly enhance data understanding, cleaning, processing, and analysis.  \n",
    "It will help in making informed decisions about data handling, modeling, and interpretation of results.  \n",
    "\n",
    "File that must be filled: **'tests/model_quality_metrics.xlsx'**\n",
    "\n",
    "Please fill out the following fields for each feature in the dataset. "
   ]
  },
  {
   "cell_type": "markdown",
   "id": "69071669-4cec-4ecf-be7d-5224ddc45c68",
   "metadata": {
    "deletable": false,
    "tags": []
   },
   "source": [
    "\n",
    "1. **metric_name**: \n",
    "   - **Description:** The name of a performance metric to eval the model.\n",
    "  \n",
    "3. **min_value**: \n",
    "   - **Description**: The minimum value in the performance metric. It's the smallest number in the case of numeric data.\n",
    "   - **Formula**: $\\text{min(Column)}$\n",
    "\n",
    "4. **mean_value**: \n",
    "   - **Description**: The average value of the performance metric, calculated by summing all values and then dividing by the count of values.\n",
    "   - **Formula**: $\\text{Mean} = \\frac{\\sum_{i=1}^{n} X_i}{n}$\n",
    "\n",
    "5. **max_value**: \n",
    "   - **Description**: The maximum value in the performance metric. It's the largest number in the case of numeric data.\n",
    "   - **Formula**: $\\text{max(Column)}$\n",
    "\n",
    "6. **hyperparameters_used**: \n",
    "   - **Description**: The values of the hyperparameters used when the model was trained and the metric values were obtained.\n",
    "   - **Format**: {HP_NAME_0: HP_VALUE_0, HP_NAME_1: HP_VALUE_1, ...}\n",
    "\n"
   ]
  },
  {
   "cell_type": "code",
   "execution_count": null,
   "id": "a19f52f7-1a44-4eaa-9cf7-0445d3b5bdd7",
   "metadata": {
    "deletable": false,
    "tags": []
   },
   "outputs": [],
   "source": [
    "from IPython.display import display, HTML\n",
    "import pandas as pd\n",
    "\n",
    "# Model quality rules\n",
    "df = pd.read_excel('tests/model_quality_metrics.xlsx')\n",
    "html_table = df.to_html()\n",
    "\n",
    "display(HTML(html_table))"
   ]
  },
  {
   "cell_type": "code",
   "execution_count": null,
   "id": "b0c5704a-ac80-4175-8bfb-641b3ee6f673",
   "metadata": {},
   "outputs": [],
   "source": []
  }
 ],
 "metadata": {
  "environment": {
   "kernel": "conda-root-py",
   "name": "workbench-notebooks.m113",
   "type": "gcloud",
   "uri": "gcr.io/deeplearning-platform-release/workbench-notebooks:m113"
  },
  "kernelspec": {
   "display_name": "Python 3 (ipykernel)",
   "language": "python",
   "name": "python3"
  },
  "language_info": {
   "codemirror_mode": {
    "name": "ipython",
    "version": 3
   },
   "file_extension": ".py",
   "mimetype": "text/x-python",
   "name": "python",
   "nbconvert_exporter": "python",
   "pygments_lexer": "ipython3",
   "version": "3.10.11"
  },
  "toc-autonumbering": false,
  "toc-showcode": false,
  "toc-showmarkdowntxt": false,
  "toc-showtags": false
 },
 "nbformat": 4,
 "nbformat_minor": 5
}
