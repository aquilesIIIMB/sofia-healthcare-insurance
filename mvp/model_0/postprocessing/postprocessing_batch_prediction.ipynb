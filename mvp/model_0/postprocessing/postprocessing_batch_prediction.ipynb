{
 "cells": [
  {
   "cell_type": "markdown",
   "id": "33e747e7-1302-4c98-a1ee-13a8f589f09a",
   "metadata": {
    "deletable": false,
    "editable": false,
    "tags": []
   },
   "source": [
    "# Postprocessing component"
   ]
  },
  {
   "cell_type": "markdown",
   "id": "ce46701b-a8f7-431d-b609-d8e83220c360",
   "metadata": {
    "deletable": false,
    "editable": false,
    "tags": []
   },
   "source": [
    "Notebook details... [COMPLETE]"
   ]
  },
  {
   "cell_type": "markdown",
   "id": "e2433117-de05-4e3e-a412-bbe0089a3a34",
   "metadata": {
    "deletable": false,
    "editable": false,
    "tags": []
   },
   "source": [
    "## Setting environment"
   ]
  },
  {
   "cell_type": "markdown",
   "id": "660ad1bb-9a6e-4e92-8ec6-26992eeee6d4",
   "metadata": {
    "deletable": false,
    "editable": false,
    "tags": []
   },
   "source": [
    "### Install Jupyter Kernel and python version"
   ]
  },
  {
   "cell_type": "code",
   "execution_count": null,
   "id": "4216e3d2-60f1-4421-8170-b53a20036779",
   "metadata": {
    "deletable": false,
    "editable": true,
    "scrolled": true,
    "tags": []
   },
   "outputs": [],
   "source": [
    "%%bash\n",
    "chmod +x config/install_env_kernel.sh\n",
    "bash config/install_env_kernel.sh -n <ENV-NAME> -p <PYTHON-VERSION>"
   ]
  },
  {
   "cell_type": "markdown",
   "id": "8f2e6be5-314e-4447-945c-048b55415930",
   "metadata": {
    "deletable": false,
    "editable": false,
    "tags": []
   },
   "source": [
    "*** **Now you have to restart this notebook and search the new kernel to activate it!** ***"
   ]
  },
  {
   "cell_type": "markdown",
   "id": "602efbf5-2ff4-4e9d-b417-4ce3fa29d07d",
   "metadata": {
    "deletable": false,
    "editable": false,
    "tags": []
   },
   "source": [
    "### Install environment dependencies"
   ]
  },
  {
   "cell_type": "code",
   "execution_count": null,
   "id": "3e007752-48a7-4dbc-a7e0-810378d72167",
   "metadata": {
    "deletable": false,
    "editable": true,
    "scrolled": true,
    "tags": []
   },
   "outputs": [],
   "source": [
    "%%bash\n",
    "pip install -U <DEPENDENCIE_1> <DEPENDENCIE_2> #..."
   ]
  },
  {
   "cell_type": "markdown",
   "id": "3d711295-5c26-436e-af29-d379a353433d",
   "metadata": {
    "deletable": false,
    "editable": false,
    "tags": []
   },
   "source": [
    "------------------------------------------------------------------------------------------------------------------------"
   ]
  },
  {
   "cell_type": "markdown",
   "id": "729fd121-eb9a-4577-8597-a6fbb42737ae",
   "metadata": {
    "deletable": false,
    "editable": false,
    "tags": []
   },
   "source": [
    "## Experimental code"
   ]
  },
  {
   "cell_type": "code",
   "execution_count": null,
   "id": "b440e2de-bb89-4d0b-8b6e-a595ada1026c",
   "metadata": {
    "tags": []
   },
   "outputs": [],
   "source": [
    "# Load Dependencies ..."
   ]
  },
  {
   "cell_type": "code",
   "execution_count": null,
   "id": "5159c880-5d21-4eea-9b7e-34fb0e5bb091",
   "metadata": {
    "tags": []
   },
   "outputs": [],
   "source": [
    "# CODE..."
   ]
  },
  {
   "cell_type": "code",
   "execution_count": null,
   "id": "981fb107-1c20-4a25-a395-20d08d8a2c81",
   "metadata": {
    "tags": []
   },
   "outputs": [],
   "source": [
    "# CODE..."
   ]
  },
  {
   "cell_type": "markdown",
   "id": "b6367eb8-6b42-4a36-9f09-d71728bcc643",
   "metadata": {
    "deletable": false,
    "editable": false,
    "tags": []
   },
   "source": [
    "------------------------------------------------------------------------------------------------------------------------"
   ]
  },
  {
   "cell_type": "markdown",
   "id": "4f2b2d82-6dc5-4f3e-a973-93dd4c10f4ab",
   "metadata": {
    "deletable": false,
    "editable": false,
    "tags": []
   },
   "source": [
    "## Executable Code in Vertex Training as Custom Container"
   ]
  },
  {
   "cell_type": "markdown",
   "id": "2966281e-bb8c-4cfb-a3e0-6584a1eff6a8",
   "metadata": {
    "deletable": false,
    "editable": false,
    "tags": []
   },
   "source": [
    "### Code to ingest input data"
   ]
  },
  {
   "cell_type": "code",
   "execution_count": null,
   "id": "43413cca-ff9c-4145-a0ec-b5ae4cba46b4",
   "metadata": {
    "deletable": false,
    "editable": true,
    "scrolled": true,
    "tags": []
   },
   "outputs": [],
   "source": [
    "# input-data-ingestion (DON'T REMOVE THIS COMMENT)\n",
    "from typing import List, Dict, Tuple\n",
    "# Load Dependencies ...\n",
    "\n",
    "\n",
    "# Auxiliar functions\n",
    "# ...\n",
    "\n",
    "\n",
    "# Main functions\n",
    "def input_data_ingestion(\n",
    "    project_id: str,\n",
    "    version: str,\n",
    "    location: str='us-central1',\n",
    "    secret_path: List[str]=None,\n",
    "    input_files_queries: List[str]=None,\n",
    "    input_files_storage_uris: List[str]=None,\n",
    "    test_mode: bool=False,\n",
    "    labels: Dict={\"application_name\": \"{{cookiecutter.applicationName}}\", \"git_project\": \"{{cookiecutter.projectName}}\", \"model_name\": \"\", \"git_branch\": \"mvp\", \"version\": \"\", \"component\": \"postprocessing\"},\n",
    ") -> Tuple:\n",
    "    # ...\n",
    "    \n",
    "    return ()\n",
    "\n",
    "\n",
    "def model_ingestion(\n",
    "    project_id: str,\n",
    "    version: str,\n",
    "    location: str='us-central1',\n",
    "    secret_path: List[str]=None,\n",
    "    input_files_queries: List[str]=None,\n",
    "    input_files_storage_uris: List[str]=None,\n",
    "    test_mode: bool=False,\n",
    "    labels: Dict={\"application_name\": \"{{cookiecutter.applicationName}}\", \"git_project\": \"{{cookiecutter.projectName}}\", \"model_name\": \"\", \"git_branch\": \"mvp\", \"version\": \"\", \"component\": \"postprocessing\"},\n",
    "):\n",
    "    # ...\n",
    "    \n",
    "    return model\n"
   ]
  },
  {
   "cell_type": "markdown",
   "id": "d2cd8faa-5acb-448a-a98e-93d9bb203dbf",
   "metadata": {
    "deletable": false,
    "editable": false,
    "tags": []
   },
   "source": [
    "### Code to process input data and generate output data"
   ]
  },
  {
   "cell_type": "code",
   "execution_count": null,
   "id": "e6d24ef3-7875-4dc7-998e-c19625293655",
   "metadata": {
    "deletable": false,
    "editable": true,
    "scrolled": true,
    "tags": []
   },
   "outputs": [],
   "source": [
    "# process (DON'T REMOVE THIS COMMENT)\n",
    "from typing import List, Dict, Tuple\n",
    "# Load Dependencies ...\n",
    "\n",
    "\n",
    "# Auxiliar functions\n",
    "# ...\n",
    "\n",
    "\n",
    "# Main functions\n",
    "def feature_generation(\n",
    "    input_data: tuple,\n",
    "    project_id: str,\n",
    "    version: str,\n",
    "    location: str='us-central1',\n",
    "    secret_path: List[str]=None,\n",
    "    test_mode: bool=False,\n",
    "    labels: Dict={\"application_name\": \"{{cookiecutter.applicationName}}\", \"git_project\": \"{{cookiecutter.projectName}}\", \"model_name\": \"\", \"git_branch\": \"mvp\", \"version\": \"\", \"component\": \"postprocessing\"},\n",
    ") -> Tuple:\n",
    "    # ...\n",
    "    \n",
    "    return ()\n",
    "\n",
    "\n",
    "def point_prediction_generation(\n",
    "    model,\n",
    "    project_id: str,\n",
    "    version: str,\n",
    "    feature_datasets: tuple,\n",
    "    location: str='us-central1',\n",
    "    secret_path: List[str]=None,\n",
    "    test_mode: bool=False,\n",
    "    labels: Dict={\"application_name\": \"{{cookiecutter.applicationName}}\", \"git_project\": \"{{cookiecutter.projectName}}\", \"model_name\": \"\", \"git_branch\": \"mvp\", \"version\": \"\", \"component\": \"postprocessing\"},\n",
    "):\n",
    "    # ...\n",
    "    \n",
    "    return prediction\n",
    "\n",
    "\n",
    "def batch_prediction_generation(\n",
    "    model,\n",
    "    project_id: str,\n",
    "    version: str,\n",
    "    feature_datasets: tuple,\n",
    "    location: str='us-central1',\n",
    "    secret_path: List[str]=None,\n",
    "    test_mode: bool=False,\n",
    "    labels: Dict={\"application_name\": \"{{cookiecutter.applicationName}}\", \"git_project\": \"{{cookiecutter.projectName}}\", \"model_name\": \"\", \"git_branch\": \"mvp\", \"version\": \"\", \"component\": \"postprocessing\"},\n",
    ") -> Tuple:\n",
    "    # ...\n",
    "    \n",
    "    return ()\n"
   ]
  },
  {
   "cell_type": "markdown",
   "id": "d638d881-0876-460f-b634-84c5e0f7f7e0",
   "metadata": {
    "deletable": false,
    "editable": false,
    "tags": []
   },
   "source": [
    "### Code to save output data"
   ]
  },
  {
   "cell_type": "code",
   "execution_count": null,
   "id": "a8daf3d2-bca7-4d48-a478-7ee14c45e473",
   "metadata": {
    "deletable": false,
    "editable": true,
    "scrolled": true,
    "tags": []
   },
   "outputs": [],
   "source": [
    "# output-data-storing (DON'T REMOVE THIS COMMENT)\n",
    "from typing import List, Dict, Tuple\n",
    "# Load Dependencies ...\n",
    "\n",
    "\n",
    "# Auxiliar functions\n",
    "# ...\n",
    "\n",
    "\n",
    "# Main functions\n",
    "def prediction_storing(\n",
    "    prediction_datasets: tuple,\n",
    "    project_id: str,\n",
    "    version: str,\n",
    "    labels: List[str]=None,\n",
    "    location: str='us-central1',\n",
    "    output_tables: List[str]=None,\n",
    "    output_bucket_paths: List[str]=None,\n",
    "    secret_path: List[str]=None,\n",
    "    test_mode: bool=False,\n",
    "    labels: Dict={\"application_name\": \"{{cookiecutter.applicationName}}\", \"git_project\": \"{{cookiecutter.projectName}}\", \"model_name\": \"\", \"git_branch\": \"mvp\", \"version\": \"\", \"component\": \"postprocessing\"},\n",
    ") -> Tuple:\n",
    "    # ...\n",
    "    \n",
    "    return ()\n"
   ]
  },
  {
   "cell_type": "markdown",
   "id": "63b7f641-f189-4e29-b11e-e8c1a2735f5b",
   "metadata": {
    "deletable": false,
    "editable": false,
    "tags": []
   },
   "source": [
    "### Code to run every function in Vertex Training"
   ]
  },
  {
   "cell_type": "markdown",
   "id": "87d0f3c2-7fda-49b8-a25d-91d79dc4b4b6",
   "metadata": {
    "deletable": false,
    "editable": false,
    "tags": []
   },
   "source": [
    "Use full dataset and configuration to run the complete Preprocessing in Vertex Training Job with enough resources."
   ]
  },
  {
   "cell_type": "raw",
   "id": "c7537cbd-e3bb-4e9e-8b92-32eacf81fd4f",
   "metadata": {
    "deletable": false,
    "editable": true,
    "tags": []
   },
   "source": [
    "# step-execution (DON'T REMOVE THIS COMMENT)\n",
    "\n",
    "if __name__ == \"__main__\": \n",
    "    # input variables \n",
    "    project_id = #...\n",
    "    version = #...\n",
    "    location = #...\n",
    "    model_name = #...\n",
    "    secret_path = #...\n",
    "    \n",
    "    data_input_files_queries = #... # Optional but at least data_input_files_queries or data_input_files_storage_uri\n",
    "    data_input_files_storage_uri = #... # Optional but at least data_input_files_queries or data_input_files_storage_uri\n",
    "    \n",
    "    model_input_files_queries = #... # Optional but at least model_input_files_queries or model_input_files_storage_uri\n",
    "    model_input_files_storage_uri = #... # Optional but at least model_input_files_queries or model_input_files_storage_uri\n",
    "\n",
    "    output_tables = #... # Optional but at least output_tables or output_bucket\n",
    "    output_bucket = #... # Optional but at least output_tables or output_bucket\n",
    "\n",
    "    # Steps\n",
    "    input_data = input_data_ingestion(\n",
    "        project_id=project_id,\n",
    "        version=version,\n",
    "        input_files_queries=data_input_files_queries,\n",
    "        input_files_storage_uris=data_input_files_storage_uris,\n",
    "        location=location,\n",
    "        secret_path=secret_path,\n",
    "    )\n",
    "\n",
    "    model = model_ingestion(\n",
    "        project_id=project_id,\n",
    "        version=version,\n",
    "        location=location,\n",
    "        secret_path=secret_path,\n",
    "        input_files_queries=model_input_files_queries,\n",
    "        input_files_storage_uris=model_input_files_storage_uris,\n",
    "    )\n",
    "\n",
    "    feature_datasets = feature_generation(\n",
    "        input_data=input_data,\n",
    "        project_id=project_id,\n",
    "        version=version,\n",
    "        location=location,\n",
    "        secret_path=secret_path,\n",
    "    )\n",
    "\n",
    "    prediction_datasets = batch_prediction_generation(\n",
    "        model=model,\n",
    "        project_id=project_id,\n",
    "        version=version,\n",
    "        feature_datasets=feature_datasets,\n",
    "        location=location,\n",
    "        secret_path=secret_path,\n",
    "    )\n",
    "\n",
    "    output_paths = prediction_storing(\n",
    "        prediction_datasets=prediction_datasets,\n",
    "        project_id=project_id,\n",
    "        version=version,\n",
    "        labels=labels,\n",
    "        location=location,\n",
    "        output_tables=output_tables,\n",
    "        output_bucket_paths=output_bucket_paths,\n",
    "        secret_path=secret_path,\n",
    "    )\n",
    "\n",
    "    print('output_paths: ', output_paths)\n"
   ]
  },
  {
   "cell_type": "markdown",
   "id": "a025d737-cc89-42e2-9105-c5dd39ee766a",
   "metadata": {
    "deletable": false,
    "editable": false,
    "tags": []
   },
   "source": [
    "### Standalone execution to test the functions\n",
    "Use a small dataset to have a sucess execution into this machine. Full dataset will be run in Vertex Training with enough resources."
   ]
  },
  {
   "cell_type": "code",
   "execution_count": null,
   "id": "12f93ad9-6bc8-4815-8dbe-820e8a42b7e3",
   "metadata": {
    "deletable": false,
    "editable": true,
    "scrolled": true,
    "tags": []
   },
   "outputs": [],
   "source": [
    "# input variables \n",
    "project_id = #...\n",
    "version = #...\n",
    "location = #...\n",
    "model_name = #...\n",
    "secret_path = #...\n",
    "\n",
    "data_input_files_queries = #... # Optional but at least data_input_files_queries or data_input_files_storage_uri\n",
    "data_input_files_storage_uri = #... # Optional but at least data_input_files_queries or data_input_files_storage_uri\n",
    "\n",
    "model_input_files_queries = #... # Optional but at least model_input_files_queries or model_input_files_storage_uri\n",
    "model_input_files_storage_uri = #... # Optional but at least model_input_files_queries or model_input_files_storage_uri\n",
    "\n",
    "output_tables = #... # Optional but at least output_tables or output_bucket\n",
    "output_bucket = #... # Optional but at least output_tables or output_bucket\n",
    "\n",
    "# Steps\n",
    "input_data = input_data_ingestion(\n",
    "    project_id=project_id,\n",
    "    version=version,\n",
    "    input_files_queries=data_input_files_queries,\n",
    "    input_files_storage_uris=data_input_files_storage_uris,\n",
    "    location=location,\n",
    "    secret_path=secret_path,\n",
    ")\n",
    "\n",
    "model = model_ingestion(\n",
    "    project_id=project_id,\n",
    "    version=version,\n",
    "    location=location,\n",
    "    secret_path=secret_path,\n",
    "    input_files_queries=model_input_files_queries,\n",
    "    input_files_storage_uris=model_input_files_storage_uris,\n",
    ")\n",
    "\n",
    "feature_datasets = feature_generation(\n",
    "    input_data=input_data,\n",
    "    project_id=project_id,\n",
    "    version=version,\n",
    "    location=location,\n",
    "    secret_path=secret_path,\n",
    ")\n",
    "\n",
    "prediction_datasets = batch_prediction_generation(\n",
    "    model=model,\n",
    "    project_id=project_id,\n",
    "    version=version,\n",
    "    feature_datasets=feature_datasets,\n",
    "    location=location,\n",
    "    secret_path=secret_path,\n",
    ")\n",
    "\n",
    "output_paths = prediction_storing(\n",
    "    prediction_datasets=prediction_datasets,\n",
    "    project_id=project_id,\n",
    "    version=version,\n",
    "    labels=labels,\n",
    "    location=location,\n",
    "    output_tables=output_tables,\n",
    "    output_bucket_paths=output_bucket_paths,\n",
    "    secret_path=secret_path,\n",
    ")\n",
    "\n",
    "print('output_paths: ', output_paths)\n"
   ]
  },
  {
   "cell_type": "markdown",
   "id": "b71eda08-1ea6-4476-b20e-75f14f3306e6",
   "metadata": {
    "deletable": false,
    "editable": false,
    "tags": []
   },
   "source": [
    "## Create Vertex Training Job config"
   ]
  },
  {
   "cell_type": "markdown",
   "id": "4f68cb9e-90f9-4a29-804f-95ba7afb9cb3",
   "metadata": {
    "deletable": false,
    "editable": false,
    "tags": []
   },
   "source": [
    "### Create the requirements file "
   ]
  },
  {
   "cell_type": "code",
   "execution_count": null,
   "id": "b7016c4e-f85e-4451-8ee2-c0ddcd0f04e9",
   "metadata": {
    "deletable": false,
    "editable": false,
    "scrolled": true,
    "tags": []
   },
   "outputs": [],
   "source": [
    "%%bash\n",
    "chmod +x config/extract_dependencies.sh\n",
    "bash config/extract_dependencies.sh"
   ]
  },
  {
   "cell_type": "markdown",
   "id": "0a605f95-be87-4ab5-b49c-d25584476835",
   "metadata": {
    "deletable": false,
    "editable": false,
    "tags": []
   },
   "source": [
    "### Convert notebook to Python Script"
   ]
  },
  {
   "cell_type": "code",
   "execution_count": null,
   "id": "e1c83e19-519b-46df-bef4-efa311aa9ef6",
   "metadata": {
    "deletable": false,
    "scrolled": true,
    "tags": []
   },
   "outputs": [],
   "source": [
    "%%bash\n",
    "python config/convert_notebook2script.py --notebook_name postprocessing_batch_prediction"
   ]
  },
  {
   "cell_type": "markdown",
   "id": "3d7cb774-c59a-4ccd-9121-4dfbcff2e721",
   "metadata": {
    "deletable": false,
    "editable": false,
    "tags": []
   },
   "source": [
    "### Create docker container"
   ]
  },
  {
   "cell_type": "code",
   "execution_count": null,
   "id": "d1f16c23-2320-42e7-9208-c6a3c0de9b8b",
   "metadata": {
    "scrolled": true,
    "tags": []
   },
   "outputs": [],
   "source": [
    "%%bash\n",
    "chmod +x config/build-img.sh\n",
    "bash config/build-img.sh -m <MODEL_NAME> -p <PYTHON-VERSION> -d <CONTAINER_DESCRIPTION> -v <VERSION> -t <GIT_BRANCH>"
   ]
  },
  {
   "cell_type": "markdown",
   "id": "bb0bba99-57ff-4bb0-a1b6-59208b6f88b3",
   "metadata": {
    "deletable": false,
    "editable": false,
    "tags": []
   },
   "source": [
    "### Launch Vertex Training Job"
   ]
  },
  {
   "cell_type": "code",
   "execution_count": null,
   "id": "dd1ff196-45e4-496d-afc0-b8441bddf615",
   "metadata": {
    "tags": []
   },
   "outputs": [],
   "source": [
    "%%bash\n",
    "python config/find_suitable_gcp_machine.py \\\n",
    "--cpu_cores=<CPU_CORES> \\\n",
    "--ram_gb=<RAM_GB> \\\n",
    "--gpu_cores=<GPU_CORES[OPTIONAL, DELETE THIS LINE IF YOU DON NOT USE GPU]> \\\n",
    "--gpu_type=<GPU_TYPE[OPTIONAL, DELETE THIS LINE IF YOU DON NOT USE GPU]> \\\n"
   ]
  },
  {
   "cell_type": "code",
   "execution_count": null,
   "id": "f6440db7-b0c5-47a2-8018-a344dc3133c0",
   "metadata": {
    "tags": []
   },
   "outputs": [],
   "source": [
    "%%bash\n",
    "chmod +x config/launch_custom_job.sh\n",
    "bash config/launch_custom_job.sh \\\n",
    "-s {{cookiecutter.serviceAccountMaasName}} \\\n",
    "-m <MODEL_NAME> \\\n",
    "-c <MACHINE_TYPE> \\\n",
    "-g <ACCELERATOR_TYPE[OPTIONAL, DELETE THIS LINE IF YOU DON NOT USE GPU]> \\\n",
    "-n <ACCELERATOR_COUNT[OPTIONAL, DELETE THIS LINE IF YOU DON NOT USE GPU]> \\\n",
    "-i <CONTAINER_IMAGE_URI> \\\n",
    "-v <VERSION> \\\n",
    "-t <GIT_BRANCH> \\\n"
   ]
  },
  {
   "cell_type": "markdown",
   "id": "68ceff37-1b6c-424b-a59c-8ef5dd2592c9",
   "metadata": {
    "deletable": false,
    "editable": false,
    "tags": []
   },
   "source": [
    "### Write function tests\n"
   ]
  },
  {
   "cell_type": "markdown",
   "id": "0a7a7555-2012-4925-962e-2a87c22f0063",
   "metadata": {
    "deletable": false,
    "editable": false,
    "tags": []
   },
   "source": [
    "Create a dataset for testing your functions in a manner that ensures a smooth transition to production, you should follow a structured approach.  \n",
    "This includes understanding the nature of your production data, replicating its structure in a testing environment, and ensuring that your test data adequately represents various scenarios and edge cases.\n",
    "\n",
    "* Define input values to run the functions with the test dataset.\n",
    "* Include the way to get the test dataset for functions. It must be small no more than 100 samples and very varied data.\n",
    "* Use this test dataset to run every created function."
   ]
  },
  {
   "cell_type": "markdown",
   "id": "0e4968b4-dc9c-46ae-82a0-889ecc9d0f86",
   "metadata": {
    "deletable": false,
    "editable": false,
    "tags": []
   },
   "source": [
    "#### Define input values to run the functions with the test dataset"
   ]
  },
  {
   "cell_type": "code",
   "execution_count": null,
   "id": "371ab21b-07f4-4a08-9b74-aa2d7a97c841",
   "metadata": {},
   "outputs": [],
   "source": [
    "# Load Dependencies ..."
   ]
  },
  {
   "cell_type": "code",
   "execution_count": null,
   "id": "9b23fce3-1827-462c-9e6b-44de0f61dd3c",
   "metadata": {
    "tags": []
   },
   "outputs": [],
   "source": [
    "# input variables \n",
    "project_id = #...\n",
    "version = #...\n",
    "location = #...\n",
    "model_name = #...\n",
    "secret_path = #...\n",
    "\n",
    "data_input_files_queries = #... # Optional but at least data_input_files_queries or data_input_files_storage_uri\n",
    "data_input_files_storage_uri = #... # Optional but at least data_input_files_queries or data_input_files_storage_uri\n",
    "\n",
    "model_input_files_queries = #... # Optional but at least model_input_files_queries or model_input_files_storage_uri\n",
    "model_input_files_storage_uri = #... # Optional but at least model_input_files_queries or model_input_files_storage_uri\n",
    "\n",
    "output_tables = #... # Optional but at least output_tables or output_bucket\n",
    "output_bucket = #... # Optional but at least output_tables or output_bucket"
   ]
  },
  {
   "cell_type": "code",
   "execution_count": null,
   "id": "30fd9ae5-9304-42cb-937c-e423ed735ae8",
   "metadata": {
    "tags": []
   },
   "outputs": [],
   "source": [
    "def modify_query_file(input_name: str, replacements: dict={}, path='../scripts/queries/'):\n",
    "    \"\"\"\n",
    "    Modifies file in place with a dictionary of string replacements\n",
    "    \"\"\"\n",
    "    with open(path+input_name, 'r') as file :\n",
    "        filedata = file.read()\n",
    "    if replacements:\n",
    "        for key, value in replacements.items():\n",
    "            filedata = filedata.replace(key, value)\n",
    "    return filedata"
   ]
  },
  {
   "cell_type": "code",
   "execution_count": null,
   "id": "e8ca4787-5e94-4b1a-ab8b-b097c9b3c419",
   "metadata": {
    "tags": []
   },
   "outputs": [],
   "source": [
    "import os\n",
    "import sys\n",
    "\n",
    "\n",
    "def get_file_and_variable_size(file_path: str=None, python_variable=None):\n",
    "    \"\"\"\n",
    "    Returns the size of a file in bytes.\n",
    "    \n",
    "    :param file_path: Path to the file\n",
    "    :return: Size of the file in bytes\n",
    "    \"\"\"\n",
    "    if file_path:\n",
    "        try:\n",
    "            size = os.path.getsize(file_path)\n",
    "            print(f\"The size of the file is: {size} bytes\")\n",
    "        except OSError as e:\n",
    "            print(f\"Error: {e}\")\n",
    "    \n",
    "    if python_variable is not None:\n",
    "        size = sys.getsizeof(python_variable)\n",
    "        print(f\"The size of the variable is: {size} bytes\")"
   ]
  },
  {
   "cell_type": "markdown",
   "id": "36457bec-02d0-46a1-9ced-9e574f9276f3",
   "metadata": {
    "deletable": false,
    "editable": false,
    "tags": []
   },
   "source": [
    "#### Way to get the test dataset for functions"
   ]
  },
  {
   "cell_type": "code",
   "execution_count": null,
   "id": "fc71753d-98b7-4f20-ab99-78e3022b3594",
   "metadata": {
    "tags": []
   },
   "outputs": [],
   "source": [
    "# Function to fetch test dataset for functions\n",
    "# ..."
   ]
  },
  {
   "cell_type": "code",
   "execution_count": null,
   "id": "030005c8-35f9-45c9-801a-cce46fb8c2c2",
   "metadata": {
    "tags": []
   },
   "outputs": [],
   "source": [
    "# Show the size of test dataset for functions\n",
    "# ..."
   ]
  },
  {
   "cell_type": "code",
   "execution_count": null,
   "id": "c918e36a-8f66-40ce-88d6-965ad37714a8",
   "metadata": {
    "tags": []
   },
   "outputs": [],
   "source": [
    "# Show the test dataset for functions\n",
    "# ..."
   ]
  },
  {
   "cell_type": "markdown",
   "id": "750264f9-d702-4236-acca-b2f9cd354fb7",
   "metadata": {
    "deletable": false,
    "editable": false,
    "tags": []
   },
   "source": [
    "#### Run functions with the test dataset"
   ]
  },
  {
   "cell_type": "code",
   "execution_count": null,
   "id": "a7264348-5c22-453a-9c61-02df5e12d3f9",
   "metadata": {},
   "outputs": [],
   "source": [
    "input_data = input_data_ingestion(\n",
    "    project_id=project_id,\n",
    "    version=version,\n",
    "    input_files_queries=data_input_files_queries,\n",
    "    input_files_storage_uris=data_input_files_storage_uris,\n",
    "    location=location,\n",
    "    secret_path=secret_path,\n",
    ")"
   ]
  },
  {
   "cell_type": "code",
   "execution_count": null,
   "id": "05e7aaf5-00b6-4fbb-ba66-74d027587afe",
   "metadata": {},
   "outputs": [],
   "source": [
    "# Show size of every input_data\n",
    "get_file_and_variable_size(python_variable=input_data[0])"
   ]
  },
  {
   "cell_type": "code",
   "execution_count": null,
   "id": "5c994d28-eb76-4db5-9e0c-b9f63eabdc5e",
   "metadata": {},
   "outputs": [],
   "source": [
    "# Show every input_data\n",
    "input_data[0]"
   ]
  },
  {
   "cell_type": "code",
   "execution_count": null,
   "id": "867ee8bb-edd8-4954-a859-15f87e70767c",
   "metadata": {
    "tags": []
   },
   "outputs": [],
   "source": [
    "feature_datasets = feature_generation(\n",
    "    input_data=input_data,\n",
    "    project_id=project_id,\n",
    "    version=version,\n",
    "    location=location,\n",
    "    secret_path=secret_path,\n",
    ")"
   ]
  },
  {
   "cell_type": "code",
   "execution_count": null,
   "id": "41db6fd8-9b54-4c7f-ba74-2d9882255bd5",
   "metadata": {
    "tags": []
   },
   "outputs": [],
   "source": [
    "# Show size of every feature_datasets\n",
    "get_file_and_variable_size(python_variable=feature_datasets[0])"
   ]
  },
  {
   "cell_type": "code",
   "execution_count": null,
   "id": "c68af27b-988b-49dc-95fb-85a162b936b1",
   "metadata": {
    "tags": []
   },
   "outputs": [],
   "source": [
    "# Show every feature_datasets\n",
    "feature_datasets[0]"
   ]
  },
  {
   "cell_type": "code",
   "execution_count": null,
   "id": "4cbf55cf-d561-40e7-ab6b-0855f37d30ea",
   "metadata": {
    "tags": []
   },
   "outputs": [],
   "source": [
    "model = model_ingestion(\n",
    "    project_id=project_id,\n",
    "    version=version,\n",
    "    location=location,\n",
    "    secret_path=secret_path,\n",
    "    input_files_queries=model_input_files_queries,\n",
    "    input_files_storage_uris=model_input_files_storage_uris,\n",
    ")"
   ]
  },
  {
   "cell_type": "code",
   "execution_count": null,
   "id": "67cadb8e-b19a-4c06-afb9-5d8e15637e50",
   "metadata": {
    "tags": []
   },
   "outputs": [],
   "source": [
    "# Show size of the model (variable and file)\n",
    "get_file_and_variable_size(file_path=<MODEL_FILE_PATH>)\n",
    "get_file_and_variable_size(python_variable=model)"
   ]
  },
  {
   "cell_type": "code",
   "execution_count": null,
   "id": "68de1772-e672-4e62-84b6-7ede22375d55",
   "metadata": {
    "tags": []
   },
   "outputs": [],
   "source": [
    "# Show model\n",
    "model"
   ]
  },
  {
   "cell_type": "code",
   "execution_count": null,
   "id": "4957f158-6f26-4940-96da-64220d874d71",
   "metadata": {
    "tags": []
   },
   "outputs": [],
   "source": [
    "prediction_datasets = batch_prediction_generation(\n",
    "    model=model,\n",
    "    project_id=project_id,\n",
    "    version=version,\n",
    "    feature_datasets=feature_datasets,\n",
    "    location=location,\n",
    "    secret_path=secret_path,\n",
    ")"
   ]
  },
  {
   "cell_type": "code",
   "execution_count": null,
   "id": "e98ca111-1370-44fb-bbfa-222d28983329",
   "metadata": {
    "tags": []
   },
   "outputs": [],
   "source": [
    "# Show size of every prediction_datasets\n",
    "get_file_and_variable_size(python_variable=prediction_datasets[0])"
   ]
  },
  {
   "cell_type": "code",
   "execution_count": null,
   "id": "4220c3b5-36e4-4ddb-b3fe-70b3f05d811e",
   "metadata": {
    "tags": []
   },
   "outputs": [],
   "source": [
    "# Show every prediction_datasets\n",
    "prediction_datasets[0]"
   ]
  },
  {
   "cell_type": "code",
   "execution_count": null,
   "id": "4a758ca6-d478-4291-bb90-6f4acf899db7",
   "metadata": {
    "tags": []
   },
   "outputs": [],
   "source": [
    "output_paths = prediction_storing(\n",
    "    prediction_datasets=prediction_datasets,\n",
    "    project_id=project_id,\n",
    "    version=version,\n",
    "    labels=labels,\n",
    "    location=location,\n",
    "    output_tables=output_tables,\n",
    "    output_bucket_paths=output_bucket_paths,\n",
    "    secret_path=secret_path,\n",
    ")"
   ]
  },
  {
   "cell_type": "code",
   "execution_count": null,
   "id": "f62a0795-bfa1-46ec-8bae-252dc79f43d3",
   "metadata": {
    "tags": []
   },
   "outputs": [],
   "source": [
    "# Show size of every output_paths\n",
    "get_file_and_variable_size(python_variable=output_paths[0])"
   ]
  },
  {
   "cell_type": "code",
   "execution_count": null,
   "id": "c8d03e21-6962-47d0-9c73-8840c5da0f13",
   "metadata": {
    "tags": []
   },
   "outputs": [],
   "source": [
    "# Show every output_paths\n",
    "output_paths"
   ]
  },
  {
   "cell_type": "markdown",
   "id": "d88d8e4b-c3b5-43ad-b0e7-8392c4f5e528",
   "metadata": {
    "deletable": false,
    "editable": false,
    "tags": []
   },
   "source": [
    "### Define data quality rules"
   ]
  },
  {
   "cell_type": "markdown",
   "id": "bf521e63-0b1f-47f6-bc80-68d94e52e8ee",
   "metadata": {
    "deletable": false,
    "editable": false,
    "tags": []
   },
   "source": [
    "Encourage users to fill out these fields with as much accuracy and detail as possible.  \n",
    "Accurate metadata can significantly enhance data understanding, cleaning, processing, and analysis.  \n",
    "It will help in making informed decisions about data handling, modeling, and interpretation of results.  \n",
    "\n",
    "File that must be filled: **'tests/data_quality_metrics.xlsx'**\n",
    "\n",
    "Please fill out the following fields for each feature in the dataset. "
   ]
  },
  {
   "cell_type": "markdown",
   "id": "69071669-4cec-4ecf-be7d-5224ddc45c68",
   "metadata": {
    "deletable": false,
    "editable": false,
    "tags": []
   },
   "source": [
    "\n",
    "1. **column_name**: \n",
    "   - **Description:** The name of the column or field in your dataset.\n",
    "  \n",
    "2. **column_type**: \n",
    "   - **Description:** The data type of the column (e.g., integer, float, string, date).\n",
    "\n",
    "3. **min_value**: \n",
    "   - **Description**: The minimum value in the column. It's the smallest number in the case of numeric data.\n",
    "   - **Formula**: $\\text{min(Column)}$\n",
    "\n",
    "4. **mean_value**: \n",
    "   - **Description**: The average value of the column, calculated by summing all values and then dividing by the count of values.\n",
    "   - **Formula**: $\\text{Mean} = \\frac{\\sum_{i=1}^{n} X_i}{n}$\n",
    "\n",
    "5. **max_value**: \n",
    "   - **Description**: The maximum value in the column. It's the largest number in the case of numeric data.\n",
    "   - **Formula**: $\\text{max(Column)}$\n",
    "\n",
    "6. **outliers_count**: \n",
    "   - **Description**: The count of values significantly different from others. Outliers are often determined using statistical methods like the Z-score, where $\\text{k}$ is a threshold value (commonly 1.96 for 95% confidence).\n",
    "   - **Formula**: Count values where $|X_i - \\text{Mean}| > k \\times \\text{Standard Deviation}$\n",
    "\n",
    "7. **nulls_count**: \n",
    "   - **Description**: The number of missing or undefined values in the column.\n",
    "   - **Formula**: Count of `Null` or `NaN` values in the Column.\n",
    "\n",
    "8. **rows_count**: \n",
    "   - **Description**: Simply the count of all rows or records in the dataset.\n",
    "   - **Formula**: Total number of rows in the dataset.\n",
    "\n",
    "9. **cardinality**: \n",
    "   - **Description**: The number of distinct values in the column.\n",
    "   - **Formula**: Count of unique values in the Column.\n",
    "\n",
    "10. **selectivity**: \n",
    "    - **Description**: The ratio of unique values to total rows, indicating how many rows can be filtered using a particular value.\n",
    "    - **Formula**: $\\text{Selectivity} = \\frac{\\text{Number of Unique Values}}{\\text{Total Number of Rows}}$\n",
    "\n",
    "11. **density**: \n",
    "    - **Description**: The proportion of non-null values to total values in the column, indicating how \"filled\" a column is with non-null data.\n",
    "    - **Formula**: Typically calculated as $\\text{Density} = \\frac{\\text{Non-Null Count}}{\\text{Total Count}}$\n"
   ]
  },
  {
   "cell_type": "code",
   "execution_count": null,
   "id": "a19f52f7-1a44-4eaa-9cf7-0445d3b5bdd7",
   "metadata": {
    "deletable": false,
    "tags": []
   },
   "outputs": [],
   "source": [
    "from IPython.display import display, HTML\n",
    "import pandas as pd\n",
    "\n",
    "# Predictions data quality rules\n",
    "df = pd.read_excel('tests/data_quality_metrics.xlsx')\n",
    "html_table = df.to_html()\n",
    "\n",
    "display(HTML(html_table))"
   ]
  },
  {
   "cell_type": "code",
   "execution_count": null,
   "id": "b0c5704a-ac80-4175-8bfb-641b3ee6f673",
   "metadata": {},
   "outputs": [],
   "source": []
  }
 ],
 "metadata": {
  "environment": {
   "kernel": "conda-env-310-iris-post-py",
   "name": "workbench-notebooks.m113",
   "type": "gcloud",
   "uri": "gcr.io/deeplearning-platform-release/workbench-notebooks:m113"
  },
  "kernelspec": {
   "display_name": "Python 3 (ipykernel)",
   "language": "python",
   "name": "python3"
  },
  "language_info": {
   "codemirror_mode": {
    "name": "ipython",
    "version": 3
   },
   "file_extension": ".py",
   "mimetype": "text/x-python",
   "name": "python",
   "nbconvert_exporter": "python",
   "pygments_lexer": "ipython3",
   "version": "3.10.11"
  },
  "toc-autonumbering": false,
  "toc-showcode": false,
  "toc-showmarkdowntxt": false,
  "toc-showtags": false
 },
 "nbformat": 4,
 "nbformat_minor": 5
}
