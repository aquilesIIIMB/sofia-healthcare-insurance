{
 "cells": [
  {
   "cell_type": "markdown",
   "id": "33e747e7-1302-4c98-a1ee-13a8f589f09a",
   "metadata": {
    "deletable": false,
    "editable": false,
    "tags": []
   },
   "source": [
    "# Inference component"
   ]
  },
  {
   "cell_type": "markdown",
   "id": "20664238-243b-4467-9399-ab2ceb341b5a",
   "metadata": {
    "deletable": false,
    "editable": false,
    "tags": []
   },
   "source": [
    "Notebook details... [COMPLETE]"
   ]
  },
  {
   "cell_type": "markdown",
   "id": "e2433117-de05-4e3e-a412-bbe0089a3a34",
   "metadata": {
    "deletable": false,
    "editable": false,
    "tags": []
   },
   "source": [
    "## Setting environment"
   ]
  },
  {
   "cell_type": "markdown",
   "id": "660ad1bb-9a6e-4e92-8ec6-26992eeee6d4",
   "metadata": {
    "deletable": false,
    "editable": false,
    "tags": []
   },
   "source": [
    "### Install Jupyter Kernel and python version"
   ]
  },
  {
   "cell_type": "code",
   "execution_count": null,
   "id": "4216e3d2-60f1-4421-8170-b53a20036779",
   "metadata": {
    "deletable": false,
    "editable": true,
    "scrolled": true,
    "tags": []
   },
   "outputs": [],
   "source": [
    "%%bash\n",
    "chmod +x config/install_env_kernel.sh\n",
    "bash config/install_env_kernel.sh -n <ENV-NAME> -p <PYTHON-VERSION>"
   ]
  },
  {
   "cell_type": "markdown",
   "id": "8f2e6be5-314e-4447-945c-048b55415930",
   "metadata": {
    "deletable": false,
    "editable": false,
    "tags": []
   },
   "source": [
    "*** **Now you have to restart this notebook and search the new kernel to activate it!** ***"
   ]
  },
  {
   "cell_type": "markdown",
   "id": "602efbf5-2ff4-4e9d-b417-4ce3fa29d07d",
   "metadata": {
    "deletable": false,
    "editable": false,
    "tags": []
   },
   "source": [
    "### Install environment dependencies"
   ]
  },
  {
   "cell_type": "code",
   "execution_count": null,
   "id": "3e007752-48a7-4dbc-a7e0-810378d72167",
   "metadata": {
    "deletable": false,
    "editable": true,
    "scrolled": true,
    "tags": []
   },
   "outputs": [],
   "source": [
    "%%bash\n",
    "pip install -U <DEPENDENCIE_1> <DEPENDENCIE_2> #..."
   ]
  },
  {
   "cell_type": "markdown",
   "id": "3d711295-5c26-436e-af29-d379a353433d",
   "metadata": {
    "deletable": false,
    "editable": false,
    "tags": []
   },
   "source": [
    "------------------------------------------------------------------------------------------------------------------------"
   ]
  },
  {
   "cell_type": "markdown",
   "id": "729fd121-eb9a-4577-8597-a6fbb42737ae",
   "metadata": {
    "deletable": false,
    "editable": false,
    "tags": []
   },
   "source": [
    "## Experimental code"
   ]
  },
  {
   "cell_type": "code",
   "execution_count": null,
   "id": "b440e2de-bb89-4d0b-8b6e-a595ada1026c",
   "metadata": {
    "tags": []
   },
   "outputs": [],
   "source": [
    "# Load Dependencies ..."
   ]
  },
  {
   "cell_type": "code",
   "execution_count": null,
   "id": "5159c880-5d21-4eea-9b7e-34fb0e5bb091",
   "metadata": {
    "tags": []
   },
   "outputs": [],
   "source": [
    "# CODE..."
   ]
  },
  {
   "cell_type": "code",
   "execution_count": null,
   "id": "981fb107-1c20-4a25-a395-20d08d8a2c81",
   "metadata": {
    "tags": []
   },
   "outputs": [],
   "source": [
    "# CODE..."
   ]
  },
  {
   "cell_type": "markdown",
   "id": "b6367eb8-6b42-4a36-9f09-d71728bcc643",
   "metadata": {
    "deletable": false,
    "editable": false,
    "tags": []
   },
   "source": [
    "------------------------------------------------------------------------------------------------------------------------"
   ]
  },
  {
   "cell_type": "markdown",
   "id": "4f2b2d82-6dc5-4f3e-a973-93dd4c10f4ab",
   "metadata": {
    "deletable": false,
    "editable": false,
    "tags": []
   },
   "source": [
    "## Executable Code in Vertex Training as Custom Container"
   ]
  },
  {
   "cell_type": "markdown",
   "id": "2dfc87a0-84ea-4688-a038-4e4a08d454c8",
   "metadata": {
    "deletable": false,
    "editable": false,
    "tags": []
   },
   "source": [
    "### Define input data"
   ]
  },
  {
   "cell_type": "code",
   "execution_count": null,
   "id": "6678c4a5-0732-41c2-9c6a-df2f831b48df",
   "metadata": {
    "deletable": false,
    "editable": true,
    "scrolled": true,
    "tags": []
   },
   "outputs": [],
   "source": [
    "# input-data-definition (DON'T REMOVE THIS COMMENT)\n",
    "project_id = #...\n",
    "version = #...\n",
    "model_name = #...\n",
    "bucket_name = #...\n",
    "\n",
    "input_data_ingestion_project_id = #...\n",
    "input_data_ingestion_version = #...\n",
    "input_data_ingestion_location = #...\n",
    "input_data_ingestion_secret_path = #...\n",
    "\n",
    "feature_generation_input_data = #...\n",
    "feature_generation_project_id = #...\n",
    "feature_generation_version = #...\n",
    "feature_generation_location = #...\n",
    "feature_generation_secret_path = #...\n",
    "\n",
    "model_ingestion_project_id = #...\n",
    "model_ingestion_version = #...\n",
    "model_ingestion_location = #...\n",
    "model_ingestion_secret_path = #...\n",
    "model_ingestion_input_files_queries = #...\n",
    "model_ingestion_input_files_storage_uris = #...\n",
    "\n",
    "point_prediction_generation_project_id = #...\n",
    "point_prediction_generation_version = #...\n",
    "point_prediction_generation_feature_datasets = #...\n",
    "point_prediction_generation_location = #...\n",
    "point_prediction_generation_secret_path = #...\n"
   ]
  },
  {
   "cell_type": "markdown",
   "id": "2966281e-bb8c-4cfb-a3e0-6584a1eff6a8",
   "metadata": {
    "deletable": false,
    "editable": false,
    "tags": []
   },
   "source": [
    "### Code to ingest input data"
   ]
  },
  {
   "cell_type": "code",
   "execution_count": null,
   "id": "43413cca-ff9c-4145-a0ec-b5ae4cba46b4",
   "metadata": {
    "deletable": false,
    "editable": true,
    "scrolled": true,
    "tags": []
   },
   "outputs": [],
   "source": [
    "# input-data-ingestion (DON'T REMOVE THIS COMMENT)\n",
    "from typing import List, Dict, Tuple, TypedDict\n",
    "# Load Dependencies ...\n",
    "\n",
    "\n",
    "# Auxiliar functions\n",
    "# ...\n",
    "\n",
    "\n",
    "# Main functions\n",
    "def input_data_ingestion(\n",
    "    project_id: str,\n",
    "    version: str,\n",
    "    request: TypedDict,\n",
    "    location: str='us-central1',\n",
    "    secret_path: List[str]=None,\n",
    "    test_mode: bool=False,\n",
    "    labels: Dict={\"application_name\": \"{{cookiecutter.applicationName}}\", \"git_project\": \"{{cookiecutter.projectName}}\", \"model_name\": \"\", \"git_branch\": \"mvp\", \"version\": \"\", \"component\": \"inference\"},\n",
    ") -> Tuple:\n",
    "    # ...\n",
    "    \n",
    "    return ()\n",
    "\n",
    "\n",
    "def model_ingestion(\n",
    "    project_id: str,\n",
    "    version: str,\n",
    "    location: str='us-central1',\n",
    "    secret_path: List[str]=None,\n",
    "    input_files_queries: List[str]=None,\n",
    "    input_files_storage_uris: List[str]=None,\n",
    "    test_mode: bool=False,\n",
    "    labels: Dict={\"application_name\": \"{{cookiecutter.applicationName}}\", \"git_project\": \"{{cookiecutter.projectName}}\", \"model_name\": \"\", \"git_branch\": \"mvp\", \"version\": \"\", \"component\": \"inference\"},\n",
    "):\n",
    "    # ...\n",
    "    \n",
    "    return model\n"
   ]
  },
  {
   "cell_type": "markdown",
   "id": "d2cd8faa-5acb-448a-a98e-93d9bb203dbf",
   "metadata": {
    "deletable": false,
    "editable": false,
    "tags": []
   },
   "source": [
    "### Code to process input data and generate output data"
   ]
  },
  {
   "cell_type": "code",
   "execution_count": null,
   "id": "e6d24ef3-7875-4dc7-998e-c19625293655",
   "metadata": {
    "deletable": false,
    "editable": true,
    "scrolled": true,
    "tags": []
   },
   "outputs": [],
   "source": [
    "# process (DON'T REMOVE THIS COMMENT)\n",
    "from typing import List, Dict, Tuple\n",
    "# Load Dependencies ...\n",
    "\n",
    "\n",
    "# Auxiliar functions\n",
    "# ...\n",
    "\n",
    "\n",
    "# Main functions\n",
    "def feature_generation(\n",
    "    input_data: tuple,\n",
    "    project_id: str,\n",
    "    version: str,\n",
    "    location: str='us-central1',\n",
    "    secret_path: List[str]=None,\n",
    "    test_mode: bool=False,\n",
    "    labels: Dict={\"application_name\": \"{{cookiecutter.applicationName}}\", \"git_project\": \"{{cookiecutter.projectName}}\", \"model_name\": \"\", \"git_branch\": \"mvp\", \"version\": \"\", \"component\": \"inference\"},\n",
    ") -> Tuple:\n",
    "    # ...\n",
    "    \n",
    "    return ()\n",
    "\n",
    "\n",
    "def point_prediction_generation(\n",
    "    model,\n",
    "    project_id: str,\n",
    "    version: str,\n",
    "    feature_datasets: tuple,\n",
    "    location: str='us-central1',\n",
    "    secret_path: List[str]=None,\n",
    "    test_mode: bool=False,\n",
    "    labels: Dict={\"application_name\": \"{{cookiecutter.applicationName}}\", \"git_project\": \"{{cookiecutter.projectName}}\", \"model_name\": \"\", \"git_branch\": \"mvp\", \"version\": \"\", \"component\": \"inference\"},\n",
    "):\n",
    "    # ...\n",
    "    \n",
    "    return prediction\n"
   ]
  },
  {
   "cell_type": "markdown",
   "id": "63b7f641-f189-4e29-b11e-e8c1a2735f5b",
   "metadata": {
    "deletable": false,
    "editable": false,
    "tags": []
   },
   "source": [
    "### Classes to define the schema for request and response"
   ]
  },
  {
   "cell_type": "code",
   "execution_count": null,
   "id": "8af16814-2be5-4afb-9bdf-e77b033504d1",
   "metadata": {
    "deletable": false,
    "editable": true,
    "tags": []
   },
   "outputs": [],
   "source": [
    "# api-schemas (DON'T REMOVE THIS COMMENT)\n",
    "from pydantic import BaseModel\n",
    "\n",
    "\n",
    "# Define the request and response schema\n",
    "class PredictionRequest(BaseModel):\n",
    "    features: # ... # Add more parameters if necessary\n",
    "\n",
    "class PredictionResponse(BaseModel):\n",
    "    prediction: # ... # Add more parameters if necessary\n"
   ]
  },
  {
   "cell_type": "markdown",
   "id": "a025d737-cc89-42e2-9105-c5dd39ee766a",
   "metadata": {
    "deletable": false,
    "editable": false,
    "tags": []
   },
   "source": [
    "### Run the app in local\n",
    "Use a small dataset to have a sucess execution into this machine. Full dataset will be run in Vertex Online Prediction with enough resources."
   ]
  },
  {
   "cell_type": "code",
   "execution_count": null,
   "id": "f4934cf4-ddc8-42b3-b995-e80b07e5bd6f",
   "metadata": {},
   "outputs": [],
   "source": [
    "project_id = #...\n",
    "version = #...\n",
    "model_name = #...\n",
    "bucket_name = #...\n",
    "\n",
    "input_data_ingestion_project_id = #...\n",
    "input_data_ingestion_version = #...\n",
    "input_data_ingestion_location = #...\n",
    "input_data_ingestion_secret_path = #...\n",
    "\n",
    "feature_generation_input_data = #...\n",
    "feature_generation_project_id = #...\n",
    "feature_generation_version = #...\n",
    "feature_generation_location = #...\n",
    "feature_generation_secret_path = #...\n",
    "\n",
    "model_ingestion_project_id = #...\n",
    "model_ingestion_version = #...\n",
    "model_ingestion_location = #...\n",
    "model_ingestion_secret_path = #...\n",
    "model_ingestion_input_files_queries = #...\n",
    "model_ingestion_input_files_storage_uris = #...\n",
    "\n",
    "point_prediction_generation_project_id = #...\n",
    "point_prediction_generation_version = #...\n",
    "point_prediction_generation_feature_datasets = #...\n",
    "point_prediction_generation_location = #...\n",
    "point_prediction_generation_secret_path = #...\n"
   ]
  },
  {
   "cell_type": "code",
   "execution_count": null,
   "id": "a35ad89f-80f9-4dc1-b987-0cb94e956dff",
   "metadata": {
    "tags": []
   },
   "outputs": [],
   "source": [
    "# Create a class what contains the PredictionRequest parameters\n",
    "class PredictionRequest:\n",
    "    def __init__(\n",
    "        self, \n",
    "        features,\n",
    "        #...\n",
    "    ):\n",
    "        self.features = features\n",
    "        #...\n",
    "\n",
    "# Convert the dictionary to an instance of PredictionRequest\n",
    "request = PredictionRequest(\n",
    "    features = <VALUES>, \n",
    "    #...\n",
    ")"
   ]
  },
  {
   "cell_type": "code",
   "execution_count": null,
   "id": "12f93ad9-6bc8-4815-8dbe-820e8a42b7e3",
   "metadata": {
    "deletable": false,
    "editable": true,
    "scrolled": true,
    "tags": []
   },
   "outputs": [],
   "source": [
    "# Steps\n",
    "input_data = input_data_ingestion(\n",
    "    project_id=input_data_ingestion_project_id,\n",
    "    version=input_data_ingestion_version,\n",
    "    location=input_data_ingestion_location,\n",
    "    secret_path=input_data_ingestion_secret_path,\n",
    "    request=request,\n",
    "    test_mode=input_data_ingestion_test_mode,\n",
    "    labels=input_data_ingestion_labels,\n",
    ")\n",
    "\n",
    "feature_datasets = feature_generation(\n",
    "    input_data=input_data,\n",
    "    project_id=feature_generation_project_id,\n",
    "    version=feature_generation_version,\n",
    "    location=feature_generation_location,\n",
    "    secret_path=feature_generation_secret_path,\n",
    "    test_mode=feature_generation_test_mode,\n",
    "    labels=feature_generation_labels,\n",
    ")\n",
    "\n",
    "model = model_ingestion(\n",
    "    project_id=model_ingestion_project_id,\n",
    "    version=model_ingestion_version,\n",
    "    location=model_ingestion_location,\n",
    "    secret_path=model_ingestion_secret_path,\n",
    "    input_files_queries=model_ingestion_input_files_queries,\n",
    "    input_files_storage_uris=model_ingestion_input_files_storage_uris,\n",
    "    test_mode=model_ingestion_test_mode,\n",
    "    labels=model_ingestion_labels,\n",
    ")\n",
    "\n",
    "prediction = point_prediction_generation(\n",
    "    model=model,\n",
    "    project_id=point_prediction_generation_project_id,\n",
    "    version=point_prediction_generation_version,\n",
    "    feature_datasets=feature_datasets,\n",
    "    location=point_prediction_generation_location,\n",
    "    secret_path=point_prediction_generation_secret_path,\n",
    "    test_mode=point_prediction_generation_test_mode,\n",
    "    labels=point_prediction_generation_labels,\n",
    ")\n",
    "\n",
    "print('prediction: ', prediction)\n"
   ]
  },
  {
   "cell_type": "markdown",
   "id": "9c9acb52-e249-4fd2-a95e-3a0708e244cb",
   "metadata": {
    "deletable": false,
    "editable": false,
    "tags": []
   },
   "source": [
    "### Deploy app in local"
   ]
  },
  {
   "cell_type": "code",
   "execution_count": null,
   "id": "de10b040-49f8-4c82-a3eb-366e495f962f",
   "metadata": {
    "deletable": false,
    "tags": []
   },
   "outputs": [],
   "source": [
    "import subprocess, time\n",
    "\n",
    "command = \"bash config/deploy_python_app_local.sh -a <LOCAL_PORT_VALUE>\"\n",
    "process = subprocess.Popen(command, shell=True)\n",
    "time.sleep(5) # time to wait the app deployment"
   ]
  },
  {
   "cell_type": "code",
   "execution_count": null,
   "id": "2ae8ef5d-d82a-4999-9835-6d9301dc92d5",
   "metadata": {
    "deletable": false,
    "tags": []
   },
   "outputs": [],
   "source": [
    "import requests\n",
    "\n",
    "prefix = \"http://0.0.0.0:<LOCAL_PORT_VALUE>\"\n",
    "url = f'{prefix}/health'\n",
    "\n",
    "requests.get(url=url)"
   ]
  },
  {
   "cell_type": "code",
   "execution_count": null,
   "id": "2ab4b992-4006-49eb-bf0d-90e9d51bff6e",
   "metadata": {
    "deletable": false,
    "tags": []
   },
   "outputs": [],
   "source": [
    "import requests, json, time\n",
    "\n",
    "prefix = \"http://0.0.0.0:<LOCAL_PORT_VALUE>\"\n",
    "url = f'{prefix}/predict'\n",
    "\n",
    "data = {\n",
    "    \"features\": <VALUES>,\n",
    "    #...\n",
    "}\n",
    "instance_json = json.dumps(data)\n",
    "r = requests.post(url=url, data=instance_json)\n",
    "r.json()"
   ]
  },
  {
   "cell_type": "markdown",
   "id": "b71eda08-1ea6-4476-b20e-75f14f3306e6",
   "metadata": {
    "deletable": false,
    "editable": false,
    "tags": []
   },
   "source": [
    "## Create Vertex Online Predictions Instance config"
   ]
  },
  {
   "cell_type": "markdown",
   "id": "4f68cb9e-90f9-4a29-804f-95ba7afb9cb3",
   "metadata": {
    "deletable": false,
    "editable": false,
    "tags": []
   },
   "source": [
    "### Create the requirements file "
   ]
  },
  {
   "cell_type": "code",
   "execution_count": null,
   "id": "b7016c4e-f85e-4451-8ee2-c0ddcd0f04e9",
   "metadata": {
    "deletable": false,
    "editable": false,
    "scrolled": true,
    "tags": []
   },
   "outputs": [],
   "source": [
    "%%bash\n",
    "chmod +x config/extract_dependencies.sh\n",
    "bash config/extract_dependencies.sh"
   ]
  },
  {
   "cell_type": "markdown",
   "id": "0a605f95-be87-4ab5-b49c-d25584476835",
   "metadata": {
    "deletable": false,
    "editable": false,
    "tags": []
   },
   "source": [
    "### Convert notebook to Python Script"
   ]
  },
  {
   "cell_type": "code",
   "execution_count": null,
   "id": "e1c83e19-519b-46df-bef4-efa311aa9ef6",
   "metadata": {
    "deletable": false,
    "scrolled": true,
    "tags": []
   },
   "outputs": [],
   "source": [
    "%%bash\n",
    "python config/convert_notebook2script.py --notebook_name inference "
   ]
  },
  {
   "cell_type": "markdown",
   "id": "3d7cb774-c59a-4ccd-9121-4dfbcff2e721",
   "metadata": {
    "deletable": false,
    "editable": false,
    "tags": []
   },
   "source": [
    "### Create docker container"
   ]
  },
  {
   "cell_type": "code",
   "execution_count": null,
   "id": "d1f16c23-2320-42e7-9208-c6a3c0de9b8b",
   "metadata": {
    "scrolled": true,
    "tags": []
   },
   "outputs": [],
   "source": [
    "%%bash\n",
    "chmod +x config/build-img.sh\n",
    "bash config/build-img.sh -m <MODEL_NAME> -p <PYTHON-VERSION> -d <CONTAINER_DESCRIPTION> -v <VERSION> -t <GIT_BRANCH>"
   ]
  },
  {
   "cell_type": "markdown",
   "id": "89320f35-cc16-4ce3-81f3-e974bfba0504",
   "metadata": {
    "deletable": false,
    "editable": false,
    "tags": []
   },
   "source": [
    "### Deploy in local using a container"
   ]
  },
  {
   "cell_type": "code",
   "execution_count": null,
   "id": "cb608d33-1092-41d4-8a1d-8626ccf21e40",
   "metadata": {},
   "outputs": [],
   "source": [
    "import subprocess\n",
    "import time\n",
    "import requests\n",
    "import json"
   ]
  },
  {
   "cell_type": "code",
   "execution_count": null,
   "id": "88fdbdef-8abc-4b69-8987-f72ba192c120",
   "metadata": {
    "deletable": false,
    "editable": true,
    "tags": []
   },
   "outputs": [],
   "source": [
    "command = \"bash config/deploy_container_app_local.sh -m <MODEL_NAME> -p <LOCAL_PORT_VALUE> -a <APP_PORT_VALUE>\"\n",
    "process = subprocess.Popen(command, shell=True)\n",
    "time.sleep(5) # time to wait the app deployment"
   ]
  },
  {
   "cell_type": "code",
   "execution_count": null,
   "id": "37b4fbf2-5a2b-4cff-8f6d-4b5094da6fe2",
   "metadata": {
    "deletable": false,
    "editable": true,
    "tags": []
   },
   "outputs": [],
   "source": [
    "prefix = \"http://0.0.0.0:<LOCAL_PORT_VALUE>\"\n",
    "url = f'{prefix}/health'\n",
    "\n",
    "requests.get(url=url)"
   ]
  },
  {
   "cell_type": "code",
   "execution_count": null,
   "id": "1e5435db-2868-4a7f-ae2c-97f7c140a210",
   "metadata": {
    "deletable": false,
    "editable": true,
    "tags": []
   },
   "outputs": [],
   "source": [
    "prefix = \"http://0.0.0.0:<LOCAL_PORT_VALUE>\"\n",
    "url = f'{prefix}/predict'\n",
    "\n",
    "data = {\n",
    "    \"features\": <VALUES>,\n",
    "    #...\n",
    "}\n",
    "instance_json = json.dumps(data)\n",
    "r = requests.post(url=url, data=instance_json)\n",
    "r.json()"
   ]
  },
  {
   "cell_type": "markdown",
   "id": "bb0bba99-57ff-4bb0-a1b6-59208b6f88b3",
   "metadata": {
    "deletable": false,
    "editable": false,
    "tags": []
   },
   "source": [
    "### Launch Vertex Online Predictions Instance"
   ]
  },
  {
   "cell_type": "code",
   "execution_count": null,
   "id": "c65e53d4-cea3-4d81-b4e7-0c522aeb3b0a",
   "metadata": {
    "tags": []
   },
   "outputs": [],
   "source": [
    "%%bash\n",
    "python config/find_suitable_gcp_machine.py \\\n",
    "--cpu_cores=<CPU_CORES> \\\n",
    "--ram_gb=<RAM_GB> \\\n",
    "--gpu_cores=<GPU_CORES[OPTIONAL, DELETE THIS LINE IF YOU DON NOT USE GPU]> \\\n",
    "--gpu_type=<GPU_TYPE[OPTIONAL, DELETE THIS LINE IF YOU DON NOT USE GPU]> \\\n"
   ]
  },
  {
   "cell_type": "code",
   "execution_count": null,
   "id": "1a4c8f17-b580-400d-967b-2d872043a8ad",
   "metadata": {
    "tags": []
   },
   "outputs": [],
   "source": [
    "%%bash\n",
    "python config/deploy_app_online_prediction.py \\\n",
    "--service_account={{cookiecutter.serviceAccountMaasName}} \\\n",
    "--version=<VERSION> \\\n",
    "--bucket_name=<BUCKET_NAME> \\\n",
    "--model_name=<MODEL_NAME> \\\n",
    "--endpoint_name=<ENDPOINT_NAME> \\\n",
    "--project_id=<PROJECT_ID> \\\n",
    "--location=<LOCATION> \\\n",
    "--serving_container_image_uri=<SERVING_CONTAINER_IMAGE_URI> \\\n",
    "--cpu_machine_name=<MACHINE_TYPE> \\\n",
    "--gpu_machine_name=<ACCELERATOR_TYPE[OPTIONAL, DELETE THIS LINE IF YOU DON NOT USE GPU]> \\\n",
    "--gpu_machine_cores=<ACCELERATOR_COUNT[OPTIONAL, DELETE THIS LINE IF YOU DON NOT USE GPU]> \\\n",
    "--container_port=<VERTEX_ONLINE_PREDICTION_PORT> \\\n",
    "--app_port=<APP_PORT> \\\n",
    "--git_branch=<GIT_BRANCH> \\\n"
   ]
  },
  {
   "cell_type": "markdown",
   "id": "b5e27908-c450-4d33-a72f-8fafc94c1713",
   "metadata": {
    "deletable": false,
    "editable": false,
    "tags": []
   },
   "source": [
    "### Test Vertex Online Predictions Instance"
   ]
  },
  {
   "cell_type": "code",
   "execution_count": null,
   "id": "652194c1-e8c4-4810-8283-2c47ea256228",
   "metadata": {},
   "outputs": [],
   "source": []
  },
  {
   "cell_type": "markdown",
   "id": "68ceff37-1b6c-424b-a59c-8ef5dd2592c9",
   "metadata": {
    "deletable": false,
    "editable": false,
    "tags": []
   },
   "source": [
    "### Write function tests\n"
   ]
  },
  {
   "cell_type": "markdown",
   "id": "0a7a7555-2012-4925-962e-2a87c22f0063",
   "metadata": {
    "deletable": false,
    "editable": false,
    "tags": []
   },
   "source": [
    "Create a dataset for testing your functions in a manner that ensures a smooth transition to production, you should follow a structured approach.  \n",
    "This includes understanding the nature of your production data, replicating its structure in a testing environment, and ensuring that your test data adequately represents various scenarios and edge cases.\n",
    "\n",
    "* Define input values to run the functions with the test dataset.\n",
    "* Include the way to get the test dataset for functions. It must be small no more than 100 samples and very varied data.\n",
    "* Use this test dataset to run every created function."
   ]
  },
  {
   "cell_type": "markdown",
   "id": "0e4968b4-dc9c-46ae-82a0-889ecc9d0f86",
   "metadata": {
    "deletable": false,
    "editable": false,
    "tags": []
   },
   "source": [
    "#### Define input values to run the functions with the test dataset"
   ]
  },
  {
   "cell_type": "code",
   "execution_count": null,
   "id": "9b23fce3-1827-462c-9e6b-44de0f61dd3c",
   "metadata": {
    "tags": []
   },
   "outputs": [],
   "source": [
    "# Load Dependencies ..."
   ]
  },
  {
   "cell_type": "code",
   "execution_count": null,
   "id": "80a5005a-16d3-40a5-bba1-21c1df90c4bc",
   "metadata": {},
   "outputs": [],
   "source": [
    "project_id = #...\n",
    "version = #...\n",
    "model_name = #...\n",
    "bucket_name = #...\n",
    "\n",
    "input_data_ingestion_project_id = #...\n",
    "input_data_ingestion_version = #...\n",
    "input_data_ingestion_location = #...\n",
    "input_data_ingestion_secret_path = #...\n",
    "\n",
    "feature_generation_input_data = #...\n",
    "feature_generation_project_id = #...\n",
    "feature_generation_version = #...\n",
    "feature_generation_location = #...\n",
    "feature_generation_secret_path = #...\n",
    "\n",
    "model_ingestion_project_id = #...\n",
    "model_ingestion_version = #...\n",
    "model_ingestion_location = #...\n",
    "model_ingestion_secret_path = #...\n",
    "model_ingestion_input_files_queries = #...\n",
    "model_ingestion_input_files_storage_uris = #...\n",
    "\n",
    "point_prediction_generation_project_id = #...\n",
    "point_prediction_generation_version = #...\n",
    "point_prediction_generation_feature_datasets = #...\n",
    "point_prediction_generation_location = #...\n",
    "point_prediction_generation_secret_path = #...\n"
   ]
  },
  {
   "cell_type": "code",
   "execution_count": null,
   "id": "dc1d3796-3673-437c-913b-a94a59a7505d",
   "metadata": {},
   "outputs": [],
   "source": [
    "# Create a class what contains the PredictionRequest parameters\n",
    "class PredictionRequest:\n",
    "    def __init__(\n",
    "        self, \n",
    "        features,\n",
    "        #...\n",
    "    ):\n",
    "        self.features = features\n",
    "        #...\n"
   ]
  },
  {
   "cell_type": "code",
   "execution_count": null,
   "id": "30fd9ae5-9304-42cb-937c-e423ed735ae8",
   "metadata": {
    "tags": []
   },
   "outputs": [],
   "source": [
    "def modify_query_file(input_name: str, replacements: dict={}, path='../scripts/queries/'):\n",
    "    \"\"\"\n",
    "    Modifies file in place with a dictionary of string replacements\n",
    "    \"\"\"\n",
    "    with open(path+input_name, 'r') as file :\n",
    "        filedata = file.read()\n",
    "    if replacements:\n",
    "        for key, value in replacements.items():\n",
    "            filedata = filedata.replace(key, value)\n",
    "    return filedata"
   ]
  },
  {
   "cell_type": "code",
   "execution_count": null,
   "id": "38c9408e-4c91-4265-b9a5-be778f9101f3",
   "metadata": {
    "tags": []
   },
   "outputs": [],
   "source": [
    "def get_file_and_variable_size(file_path: str=None, python_variable=None):\n",
    "    \"\"\"\n",
    "    Returns the size of a file in bytes.\n",
    "    \n",
    "    :param file_path: Path to the file\n",
    "    :return: Size of the file in bytes\n",
    "    \"\"\"\n",
    "    if file_path:\n",
    "        try:\n",
    "            size = os.path.getsize(file_path)\n",
    "            print(f\"The size of the file is: {size} bytes\")\n",
    "        except OSError as e:\n",
    "            print(f\"Error: {e}\")\n",
    "    \n",
    "    if python_variable is not None:\n",
    "        size = sys.getsizeof(python_variable)\n",
    "        print(f\"The size of the variable is: {size} bytes\")"
   ]
  },
  {
   "cell_type": "markdown",
   "id": "36457bec-02d0-46a1-9ced-9e574f9276f3",
   "metadata": {
    "deletable": false,
    "editable": false,
    "tags": []
   },
   "source": [
    "#### Way to get the test dataset for functions"
   ]
  },
  {
   "cell_type": "code",
   "execution_count": null,
   "id": "fc71753d-98b7-4f20-ab99-78e3022b3594",
   "metadata": {
    "tags": []
   },
   "outputs": [],
   "source": [
    "# Function to fetch test dataset for functions\n",
    "# ..."
   ]
  },
  {
   "cell_type": "code",
   "execution_count": null,
   "id": "c918e36a-8f66-40ce-88d6-965ad37714a8",
   "metadata": {
    "tags": []
   },
   "outputs": [],
   "source": [
    "# Show the size of test dataset for functions\n",
    "# ..."
   ]
  },
  {
   "cell_type": "code",
   "execution_count": null,
   "id": "e2cba053-4276-402d-84d0-00c00e06e055",
   "metadata": {
    "tags": []
   },
   "outputs": [],
   "source": [
    "# Show the test dataset for functions\n",
    "# ..."
   ]
  },
  {
   "cell_type": "code",
   "execution_count": null,
   "id": "b76888fe-f5af-4fcb-bac8-a457c49ae941",
   "metadata": {
    "tags": []
   },
   "outputs": [],
   "source": [
    "# Convert the prev data to an instance of PredictionRequest\n",
    "request = PredictionRequest(\n",
    "    features = <PREV_DATA_VARIABLE>, \n",
    "    #...\n",
    ")\n",
    "request.features"
   ]
  },
  {
   "cell_type": "markdown",
   "id": "750264f9-d702-4236-acca-b2f9cd354fb7",
   "metadata": {
    "deletable": false,
    "editable": false,
    "tags": []
   },
   "source": [
    "#### Run functions with the test dataset"
   ]
  },
  {
   "cell_type": "code",
   "execution_count": null,
   "id": "ccac58fd-49d1-43b0-bb66-c191fae8ef86",
   "metadata": {
    "tags": []
   },
   "outputs": [],
   "source": [
    "input_data = input_data_ingestion(\n",
    "    project_id=input_data_ingestion_project_id,\n",
    "    version=input_data_ingestion_version,\n",
    "    location=input_data_ingestion_location,\n",
    "    secret_path=input_data_ingestion_secret_path,\n",
    "    request=request,\n",
    "    test_mode=input_data_ingestion_test_mode,\n",
    "    labels=input_data_ingestion_labels,\n",
    ")"
   ]
  },
  {
   "cell_type": "code",
   "execution_count": null,
   "id": "3ca7888b-0669-47d7-b252-f1abd87417d4",
   "metadata": {
    "tags": []
   },
   "outputs": [],
   "source": [
    "# Show size of every input_data\n",
    "get_file_and_variable_size(python_variable=input_data[0])"
   ]
  },
  {
   "cell_type": "code",
   "execution_count": null,
   "id": "c954dea6-c89e-4417-87e1-9009e7af95f4",
   "metadata": {
    "tags": []
   },
   "outputs": [],
   "source": [
    "# Show every input_data\n",
    "input_data[0]"
   ]
  },
  {
   "cell_type": "code",
   "execution_count": null,
   "id": "867ee8bb-edd8-4954-a859-15f87e70767c",
   "metadata": {
    "tags": []
   },
   "outputs": [],
   "source": [
    "feature_datasets = feature_generation(\n",
    "    input_data=input_data,\n",
    "    project_id=feature_generation_project_id,\n",
    "    version=feature_generation_version,\n",
    "    location=feature_generation_location,\n",
    "    secret_path=feature_generation_secret_path,\n",
    "    test_mode=feature_generation_test_mode,\n",
    "    labels=feature_generation_labels,\n",
    ")"
   ]
  },
  {
   "cell_type": "code",
   "execution_count": null,
   "id": "46343c01-5a28-4072-97c7-3803edca7570",
   "metadata": {
    "tags": []
   },
   "outputs": [],
   "source": [
    "# Show size of every feature_datasets\n",
    "get_file_and_variable_size(python_variable=feature_datasets[0])"
   ]
  },
  {
   "cell_type": "code",
   "execution_count": null,
   "id": "c68af27b-988b-49dc-95fb-85a162b936b1",
   "metadata": {
    "tags": []
   },
   "outputs": [],
   "source": [
    "# Show every feature_datasets\n",
    "feature_datasets[0]"
   ]
  },
  {
   "cell_type": "code",
   "execution_count": null,
   "id": "4cbf55cf-d561-40e7-ab6b-0855f37d30ea",
   "metadata": {
    "tags": []
   },
   "outputs": [],
   "source": [
    "model = model_ingestion(\n",
    "    project_id=model_ingestion_project_id,\n",
    "    version=model_ingestion_version,\n",
    "    location=model_ingestion_location,\n",
    "    secret_path=model_ingestion_secret_path,\n",
    "    input_files_queries=model_ingestion_input_files_queries,\n",
    "    input_files_storage_uris=model_ingestion_input_files_storage_uris,\n",
    "    test_mode=model_ingestion_test_mode,\n",
    "    labels=model_ingestion_labels,\n",
    ")"
   ]
  },
  {
   "cell_type": "code",
   "execution_count": null,
   "id": "c47ed1a2-eb62-41e6-8098-7c55dc947b4a",
   "metadata": {
    "tags": []
   },
   "outputs": [],
   "source": [
    "# Show size of the model (variable and file)\n",
    "get_file_and_variable_size(file_path=<MODEL_FILE_PATH>)\n",
    "get_file_and_variable_size(python_variable=model)"
   ]
  },
  {
   "cell_type": "code",
   "execution_count": null,
   "id": "40c39047-8307-420b-aa1f-403fb63d781c",
   "metadata": {
    "tags": []
   },
   "outputs": [],
   "source": [
    "# Show the model\n",
    "model"
   ]
  },
  {
   "cell_type": "code",
   "execution_count": null,
   "id": "4957f158-6f26-4940-96da-64220d874d71",
   "metadata": {
    "tags": []
   },
   "outputs": [],
   "source": [
    "prediction = point_prediction_generation(\n",
    "    model=model,\n",
    "    project_id=point_prediction_generation_project_id,\n",
    "    version=point_prediction_generation_version,\n",
    "    feature_datasets=feature_datasets,\n",
    "    location=point_prediction_generation_location,\n",
    "    secret_path=point_prediction_generation_secret_path,\n",
    "    test_mode=point_prediction_generation_test_mode,\n",
    "    labels=point_prediction_generation_labels,\n",
    ")"
   ]
  },
  {
   "cell_type": "code",
   "execution_count": null,
   "id": "4220c3b5-36e4-4ddb-b3fe-70b3f05d811e",
   "metadata": {
    "tags": []
   },
   "outputs": [],
   "source": [
    "# Show size of every prediction\n",
    "get_file_and_variable_size(python_variable=prediction)"
   ]
  },
  {
   "cell_type": "code",
   "execution_count": null,
   "id": "3b065d83-76bd-4b68-acc7-24bef5a4d942",
   "metadata": {
    "tags": []
   },
   "outputs": [],
   "source": [
    "# Show every prediction\n",
    "prediction"
   ]
  },
  {
   "cell_type": "markdown",
   "id": "d88d8e4b-c3b5-43ad-b0e7-8392c4f5e528",
   "metadata": {
    "deletable": false,
    "editable": false,
    "tags": []
   },
   "source": [
    "### Define data quality rules"
   ]
  },
  {
   "cell_type": "markdown",
   "id": "bf521e63-0b1f-47f6-bc80-68d94e52e8ee",
   "metadata": {
    "deletable": false,
    "editable": false,
    "tags": []
   },
   "source": [
    "Encourage users to fill out these fields with as much accuracy and detail as possible.  \n",
    "Accurate metadata can significantly enhance data understanding, cleaning, processing, and analysis.  \n",
    "It will help in making informed decisions about data handling, modeling, and interpretation of results.  \n",
    "\n",
    "File that must be filled: **'tests/data_quality_metrics.xlsx'**\n",
    "\n",
    "Please fill out the following fields for each feature in the dataset. "
   ]
  },
  {
   "cell_type": "markdown",
   "id": "69071669-4cec-4ecf-be7d-5224ddc45c68",
   "metadata": {
    "deletable": false,
    "editable": false,
    "tags": []
   },
   "source": [
    "\n",
    "1. **column_name**: \n",
    "   - **Description:** The name of the column or field in your dataset.\n",
    "  \n",
    "2. **column_type**: \n",
    "   - **Description:** The data type of the column (e.g., integer, float, string, date).\n",
    "\n",
    "3. **min_value**: \n",
    "   - **Description**: The minimum value in the column. It's the smallest number in the case of numeric data.\n",
    "   - **Formula**: $\\text{min(Column)}$\n",
    "\n",
    "4. **mean_value**: \n",
    "   - **Description**: The average value of the column, calculated by summing all values and then dividing by the count of values.\n",
    "   - **Formula**: $\\text{Mean} = \\frac{\\sum_{i=1}^{n} X_i}{n}$\n",
    "\n",
    "5. **max_value**: \n",
    "   - **Description**: The maximum value in the column. It's the largest number in the case of numeric data.\n",
    "   - **Formula**: $\\text{max(Column)}$\n",
    "\n",
    "6. **outliers_count**: \n",
    "   - **Description**: The count of values significantly different from others. Outliers are often determined using statistical methods like the Z-score, where $\\text{k}$ is a threshold value (commonly 1.96 for 95% confidence).\n",
    "   - **Formula**: Count values where $|X_i - \\text{Mean}| > k \\times \\text{Standard Deviation}$\n",
    "\n",
    "7. **nulls_count**: \n",
    "   - **Description**: The number of missing or undefined values in the column.\n",
    "   - **Formula**: Count of `Null` or `NaN` values in the Column.\n",
    "\n",
    "8. **rows_count**: \n",
    "   - **Description**: Simply the count of all rows or records in the dataset.\n",
    "   - **Formula**: Total number of rows in the dataset.\n",
    "\n",
    "9. **cardinality**: \n",
    "   - **Description**: The number of distinct values in the column.\n",
    "   - **Formula**: Count of unique values in the Column.\n",
    "\n",
    "10. **selectivity**: \n",
    "    - **Description**: The ratio of unique values to total rows, indicating how many rows can be filtered using a particular value.\n",
    "    - **Formula**: $\\text{Selectivity} = \\frac{\\text{Number of Unique Values}}{\\text{Total Number of Rows}}$\n",
    "\n",
    "11. **density**: \n",
    "    - **Description**: The proportion of non-null values to total values in the column, indicating how \"filled\" a column is with non-null data.\n",
    "    - **Formula**: Typically calculated as $\\text{Density} = \\frac{\\text{Non-Null Count}}{\\text{Total Count}}$\n"
   ]
  },
  {
   "cell_type": "code",
   "execution_count": null,
   "id": "a19f52f7-1a44-4eaa-9cf7-0445d3b5bdd7",
   "metadata": {
    "deletable": false,
    "tags": []
   },
   "outputs": [],
   "source": [
    "from IPython.display import display, HTML\n",
    "import pandas as pd\n",
    "\n",
    "# Predictions data quality rules\n",
    "df = pd.read_excel('tests/data_quality_metrics.xlsx')\n",
    "html_table = df.to_html()\n",
    "\n",
    "display(HTML(html_table))"
   ]
  },
  {
   "cell_type": "code",
   "execution_count": null,
   "id": "b0c5704a-ac80-4175-8bfb-641b3ee6f673",
   "metadata": {},
   "outputs": [],
   "source": []
  }
 ],
 "metadata": {
  "environment": {
   "kernel": "conda-env-310-iris-inference-py",
   "name": "workbench-notebooks.m113",
   "type": "gcloud",
   "uri": "gcr.io/deeplearning-platform-release/workbench-notebooks:m113"
  },
  "kernelspec": {
   "display_name": "Python 3 (ipykernel)",
   "language": "python",
   "name": "python3"
  },
  "language_info": {
   "codemirror_mode": {
    "name": "ipython",
    "version": 3
   },
   "file_extension": ".py",
   "mimetype": "text/x-python",
   "name": "python",
   "nbconvert_exporter": "python",
   "pygments_lexer": "ipython3",
   "version": "3.10.11"
  },
  "toc-autonumbering": false,
  "toc-showcode": false,
  "toc-showmarkdowntxt": false,
  "toc-showtags": false
 },
 "nbformat": 4,
 "nbformat_minor": 5
}
